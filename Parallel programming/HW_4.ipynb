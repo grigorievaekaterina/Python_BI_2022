{
  "cells": [
    {
      "cell_type": "markdown",
      "id": "807eeb67-c734-4bd7-87aa-573d1d55366d",
      "metadata": {
        "id": "807eeb67-c734-4bd7-87aa-573d1d55366d"
      },
      "source": [
        "В формулировке заданий будет использоваться понятие **worker**. Это слово обозначает какую-то единицу параллельного выполнения, в случае питона это может быть **поток** или **процесс**, выбирайте то, что лучше будет подходить к конкретной задаче"
      ]
    },
    {
      "cell_type": "code",
      "source": [
        "import concurrent.futures\n",
        "import requests\n",
        "from threading import Thread\n",
        "import time\n",
        "import numpy as np\n",
        "from sklearn.tree import DecisionTreeClassifier\n",
        "from sklearn.model_selection import train_test_split\n",
        "import multiprocessing"
      ],
      "metadata": {
        "id": "eiF4tXP6bN7_"
      },
      "id": "eiF4tXP6bN7_",
      "execution_count": 2,
      "outputs": []
    },
    {
      "cell_type": "markdown",
      "id": "6d3b4f3a-f226-4ea4-a39f-dfb6e45bd983",
      "metadata": {
        "id": "6d3b4f3a-f226-4ea4-a39f-dfb6e45bd983"
      },
      "source": [
        "# Задание 1 (7 баллов)"
      ]
    },
    {
      "cell_type": "markdown",
      "id": "ba5a5046-e619-4e55-8a36-f0e72f7f8d4a",
      "metadata": {
        "id": "ba5a5046-e619-4e55-8a36-f0e72f7f8d4a"
      },
      "source": [
        "В одном из заданий по ML от вас требовалось написать кастомную реализацию Random Forest. Её проблема состоит в том, что она работает медленно, так как использует всего один поток для работы. Добавление параллельного программирования в код позволит получить существенный прирост в скорости обучения и предсказаний.\n",
        "\n",
        "В данном задании от вас требуется добавить возможность обучать случайный лес параллельно и использовать параллелизм для предсказаний. Для этого вам понадобится:\n",
        "1. Добавить аргумент `n_jobs` в метод `fit`. `n_jobs` показывает количество worker'ов, используемых для распараллеливания\n",
        "2. Добавить аргумент `n_jobs` в методы `predict` и `predict_proba`\n",
        "3. Реализовать функционал по распараллеливанию в данных методах\n",
        "\n",
        "В результате код `random_forest.fit(X, y, n_jobs=2)` и `random_forest.predict(X, y, n_jobs=2)` должен работать в ~1.5-2 раза быстрее, чем `random_forest.fit(X, y, n_jobs=1)` и `random_forest.predict(X, y, n_jobs=1)` соответственно\n",
        "\n",
        "Если у вас по каким-то причинам нет кода случайного леса из ДЗ по ML, то вы можете написать его заново или попросить у однокурсника. *Детали* реализации ML части оцениваться не будут, НО, если вы поломаете логику работы алгоритма во время реализации параллелизма, то за это будут сниматься баллы\n",
        "\n",
        "В задании можно использовать только модули из **стандартной библиотеки** питона, а также функции и классы из **sklearn** при помощи которых вы изначально писали лес"
      ]
    },
    {
      "cell_type": "code",
      "execution_count": 41,
      "id": "af9d8b2d-3b0f-4789-a5f3-dfad537c916e",
      "metadata": {
        "id": "af9d8b2d-3b0f-4789-a5f3-dfad537c916e"
      },
      "outputs": [],
      "source": [
        "from sklearn.base import BaseEstimator\n",
        "from sklearn.datasets import make_classification\n",
        "\n",
        "\n",
        "class RandomForestClassifierCustom(BaseEstimator):\n",
        "    def __init__(\n",
        "        self, n_estimators=10, max_depth=None, max_features=None, random_state=None):\n",
        "        self.n_estimators = n_estimators\n",
        "        self.max_depth = max_depth\n",
        "        self.max_features = max_features\n",
        "        self.random_state = random_state\n",
        "\n",
        "        self.trees = []\n",
        "        self.feat_ids_by_tree = []\n",
        "\n",
        "    def fit(self, X, y, n_jobs=1): #default n_jobs=1 \n",
        "        self.classes_ = sorted(np.unique(y))\n",
        "        with concurrent.futures.ThreadPoolExecutor(n_jobs) as pool:\n",
        "            futures = []\n",
        "            for i in range(self.n_estimators):  \n",
        "                np.random.seed(self.random_state + i)\n",
        "                ind = np.random.choice(X.shape[1], size=self.max_features, replace=False)\n",
        "                self.feat_ids_by_tree.append(ind)\n",
        "                pseudo = np.random.choice(len(X), size=len(X))\n",
        "                X_cur = X[:, ind][pseudo]\n",
        "                y_cur = y[pseudo]\n",
        "                tree = DecisionTreeClassifier(max_depth=self.max_depth, \n",
        "                                            max_features=self.max_features,\n",
        "                                            random_state = self.random_state)\n",
        "                futures.append(pool.submit(tree.fit, X_cur, y_cur))\n",
        "                self.trees.append(tree)\n",
        "            for future in concurrent.futures.as_completed(futures):\n",
        "                pass\n",
        "        return self\n",
        "\n",
        "    def predict_proba(self, X, n_jobs=1): #default n_jobs=1\n",
        "        proba = 0\n",
        "        with concurrent.futures.ThreadPoolExecutor(n_jobs) as pool:\n",
        "            futures = []        \n",
        "            for i in range(self.n_estimators):           \n",
        "                futures.append(pool.submit(self.trees[i].predict_proba, X[:, self.feat_ids_by_tree[i]]))\n",
        "            for future in concurrent.futures.as_completed(futures):\n",
        "                proba += future.result()\n",
        "        return proba/self.n_estimators\n",
        "\n",
        "    def predict(self, X, n_jobs=1): #default n_jobs=1\n",
        "        probas = self.predict_proba(X, n_jobs=n_jobs)\n",
        "        predictions = np.argmax(probas, axis=1)        \n",
        "        return predictions\n",
        "    \n",
        "\n",
        "X, y = make_classification(n_samples=100000)"
      ]
    },
    {
      "cell_type": "code",
      "execution_count": 42,
      "id": "5eecd633-1ae5-49fb-8cd0-4fd4ec1d6c24",
      "metadata": {
        "id": "5eecd633-1ae5-49fb-8cd0-4fd4ec1d6c24"
      },
      "outputs": [],
      "source": [
        "random_forest = RandomForestClassifierCustom(max_depth=30, n_estimators=10, max_features=2, random_state=42)"
      ]
    },
    {
      "cell_type": "code",
      "execution_count": 43,
      "id": "85861ddf-1fdd-4dce-8e91-67e2a20e294d",
      "metadata": {
        "id": "85861ddf-1fdd-4dce-8e91-67e2a20e294d",
        "outputId": "f9ccb5bd-a77b-4f95-e9ed-e73d117beaf8",
        "colab": {
          "base_uri": "https://localhost:8080/"
        }
      },
      "outputs": [
        {
          "output_type": "stream",
          "name": "stdout",
          "text": [
            "CPU times: user 24.3 s, sys: 420 ms, total: 24.8 s\n",
            "Wall time: 14.5 s\n"
          ]
        }
      ],
      "source": [
        "%%time\n",
        "\n",
        "_ = random_forest.fit(X, y, n_jobs=1)"
      ]
    },
    {
      "cell_type": "code",
      "execution_count": 44,
      "id": "04e62ac4-91d0-4cac-9de9-b4be0b582e7b",
      "metadata": {
        "id": "04e62ac4-91d0-4cac-9de9-b4be0b582e7b",
        "outputId": "34940c32-af1f-420f-8dd5-55c1bc4fbdb6",
        "colab": {
          "base_uri": "https://localhost:8080/"
        }
      },
      "outputs": [
        {
          "output_type": "stream",
          "name": "stdout",
          "text": [
            "CPU times: user 654 ms, sys: 14.7 ms, total: 669 ms\n",
            "Wall time: 664 ms\n"
          ]
        }
      ],
      "source": [
        "%%time\n",
        "\n",
        "preds_1 = random_forest.predict(X, n_jobs=1)"
      ]
    },
    {
      "cell_type": "code",
      "execution_count": 45,
      "id": "a4696384-b02b-4195-8ca7-60ae55aed197",
      "metadata": {
        "id": "a4696384-b02b-4195-8ca7-60ae55aed197"
      },
      "outputs": [],
      "source": [
        "random_forest = RandomForestClassifierCustom(max_depth=30, n_estimators=10, max_features=2, random_state=42)"
      ]
    },
    {
      "cell_type": "code",
      "execution_count": 46,
      "id": "9f14517f-7a80-4219-aff6-90097b59b085",
      "metadata": {
        "id": "9f14517f-7a80-4219-aff6-90097b59b085",
        "outputId": "4c60035f-b30a-46a9-c8f3-c4bf09438b7b",
        "colab": {
          "base_uri": "https://localhost:8080/"
        }
      },
      "outputs": [
        {
          "output_type": "stream",
          "name": "stdout",
          "text": [
            "CPU times: user 18 s, sys: 189 ms, total: 18.2 s\n",
            "Wall time: 10.8 s\n"
          ]
        }
      ],
      "source": [
        "%%time\n",
        "\n",
        "_ = random_forest.fit(X, y, n_jobs=2)"
      ]
    },
    {
      "cell_type": "code",
      "execution_count": 47,
      "id": "c7f01f97-4ad4-4bed-a977-c8bd3ae962fd",
      "metadata": {
        "id": "c7f01f97-4ad4-4bed-a977-c8bd3ae962fd",
        "outputId": "5e743a44-c36a-436b-dbfc-7bb6c7b30008",
        "colab": {
          "base_uri": "https://localhost:8080/"
        }
      },
      "outputs": [
        {
          "output_type": "stream",
          "name": "stdout",
          "text": [
            "CPU times: user 556 ms, sys: 24.9 ms, total: 581 ms\n",
            "Wall time: 321 ms\n"
          ]
        }
      ],
      "source": [
        "%%time\n",
        "\n",
        "preds_2 = random_forest.predict(X, n_jobs=2)"
      ]
    },
    {
      "cell_type": "code",
      "execution_count": 17,
      "id": "547ba1fd-9535-4267-93f8-3cc927f71e03",
      "metadata": {
        "id": "547ba1fd-9535-4267-93f8-3cc927f71e03",
        "outputId": "d39ee0f7-0e3b-4807-ca7b-bfb3fd417eeb",
        "colab": {
          "base_uri": "https://localhost:8080/"
        }
      },
      "outputs": [
        {
          "output_type": "execute_result",
          "data": {
            "text/plain": [
              "True"
            ]
          },
          "metadata": {},
          "execution_count": 17
        }
      ],
      "source": [
        "(preds_1 == preds_2).all()   # Количество worker'ов не должно влиять на предсказания"
      ]
    },
    {
      "cell_type": "markdown",
      "id": "0a2ea6af-f73d-436a-94d9-f7310ac9a4e6",
      "metadata": {
        "id": "0a2ea6af-f73d-436a-94d9-f7310ac9a4e6"
      },
      "source": [
        "#### Какие есть недостатки у вашей реализации параллельного Random Forest (если они есть)? Как это можно исправить? Опишите словами, можно без кода (+1 дополнительный балл)"
      ]
    },
    {
      "cell_type": "markdown",
      "id": "19f2f04d-2c35-4d7d-a8fe-7f88d538fb79",
      "metadata": {
        "id": "19f2f04d-2c35-4d7d-a8fe-7f88d538fb79"
      },
      "source": [
        "Мне кажется, что несильно получилось уменьшить время выполнения (~1.45 раза). "
      ]
    },
    {
      "cell_type": "markdown",
      "id": "f020bb22-a29e-4e39-aba9-d41e79a80732",
      "metadata": {
        "id": "f020bb22-a29e-4e39-aba9-d41e79a80732"
      },
      "source": [
        "# Задание 2 (9 баллов)"
      ]
    },
    {
      "cell_type": "markdown",
      "id": "e3a8a0d2-f35b-4edb-9fb3-61da119255e9",
      "metadata": {
        "id": "e3a8a0d2-f35b-4edb-9fb3-61da119255e9"
      },
      "source": [
        "Напишите декоратор `memory_limit`, который позволит ограничивать использование памяти декорируемой функцией.\n",
        "\n",
        "Декоратор должен принимать следующие аргументы:\n",
        "1. `soft_limit` - \"мягкий\" лимит использования памяти. При превышении функцией этого лимита должен будет отображён **warning**\n",
        "2. `hard_limit` - \"жёсткий\" лимит использования памяти. При превышении функцией этого лимита должно будет брошено исключение, а функция должна немедленно завершить свою работу\n",
        "3. `poll_interval` - интервал времени (в секундах) между проверками использования памяти\n",
        "\n",
        "Требования:\n",
        "1. Потребление функцией памяти должно отслеживаться **во время выполнения функции**, а не после её завершения\n",
        "2. **warning** при превышении `soft_limit` должен отображаться один раз, даже если функция переходила через этот лимит несколько раз\n",
        "3. Если задать `soft_limit` или `hard_limit` как `None`, то соответствующий лимит должен быть отключён\n",
        "4. Лимиты должны передаваться и отображаться в формате `<number>X`, где `X` - символ, обозначающий порядок единицы измерения памяти (\"B\", \"K\", \"M\", \"G\", \"T\", ...)\n",
        "5. В тексте warning'ов и исключений должен быть указан текщий объём используемой памяти и величина превышенного лимита\n",
        "\n",
        "В задании можно использовать только модули из **стандартной библиотеки** питона, можно писать вспомогательные функции и/или классы\n",
        "\n",
        "В коде ниже для вас предопределены некоторые полезные функции, вы можете ими пользоваться, а можете не пользоваться"
      ]
    },
    {
      "cell_type": "code",
      "execution_count": 15,
      "id": "78299479-f7e3-409c-b144-d9a14bb1715a",
      "metadata": {
        "id": "78299479-f7e3-409c-b144-d9a14bb1715a"
      },
      "outputs": [],
      "source": [
        "import os\n",
        "import psutil\n",
        "import time\n",
        "import warnings\n",
        "\n",
        "\n",
        "def get_memory_usage():    # Показывает текущее потребление памяти процессом\n",
        "    process = psutil.Process(os.getpid())\n",
        "    mem_info = process.memory_info()\n",
        "    return mem_info.rss\n",
        "\n",
        "\n",
        "def bytes_to_human_readable(n_bytes):\n",
        "    symbols = ('K', 'M', 'G', 'T', 'P', 'E', 'Z', 'Y')\n",
        "    prefix = {}\n",
        "    for idx, s in enumerate(symbols):\n",
        "        prefix[s] = 1 << (idx + 1) * 10\n",
        "    for s in reversed(symbols):\n",
        "        if n_bytes >= prefix[s]:\n",
        "            value = float(n_bytes) / prefix[s]\n",
        "            return f\"{value:.2f}{s}\"\n",
        "    return f\"{n_bytes}B\"\n",
        "\n",
        "def bytes_to_float(n):\n",
        "    symbols_to_bytes = {'B': 1, 'K': 1024, 'M': 1024**2, \n",
        "                        'G': 1024**3, 'T': 1024**4, 'P': 1024**5,\n",
        "                        'E': 1024**6,  'Z': 1024**7,  'Y': 1024**8}\n",
        "    return float(n[:-1])*symbols_to_bytes[n[-1].upper()]\n",
        "\n",
        "def memory_limit(soft_limit=None, hard_limit=None, poll_interval=1):\n",
        "    def wrapper(func):\n",
        "        def inner_function(*args, **kwargs):\n",
        "            start = time.time()\n",
        "            max = 0\n",
        "            soft_bytes = None\n",
        "            hard_bytes = None\n",
        "            warning = False\n",
        "            \n",
        "            if soft_limit:\n",
        "                soft_bytes = bytes_to_float(soft_limit)         \n",
        "            if hard_limit:\n",
        "                hard_bytes = bytes_to_float(hard_limit)   \n",
        "\n",
        "            while True:\n",
        "                memory = get_memory_usage()\n",
        "                if memory > max:\n",
        "                    max = memory               \n",
        "                if hard_bytes and max > hard_bytes:\n",
        "                    raise MemoryError(f\"Memory hard limit exceeded: {bytes_to_human_readable(max)} > {hard_limit}\")                \n",
        "                if soft_bytes and not warning and max > soft_bytes:\n",
        "                    warning = True\n",
        "                    warnings.warn(f\"Memory soft limit exceeded: {bytes_to_human_readable(max)} > {soft_limit}\")                \n",
        "                result = func(*args, **kwargs)\n",
        "                \n",
        "                if memory == get_memory_usage():\n",
        "                    break               \n",
        "                if (time.time() - start) > poll_interval:\n",
        "                    start = time.time()\n",
        "                    continue\n",
        "            \n",
        "            return result        \n",
        "        return inner_function\n",
        "    return wrapper"
      ]
    },
    {
      "cell_type": "code",
      "execution_count": 24,
      "id": "e5466565-e46c-425e-a7bc-556a13633a0d",
      "metadata": {
        "id": "e5466565-e46c-425e-a7bc-556a13633a0d"
      },
      "outputs": [],
      "source": [
        "@memory_limit(soft_limit=\"512M\", hard_limit=\"1.5G\", poll_interval=0.1)\n",
        "def memory_increment():\n",
        "    \"\"\"\n",
        "    Функция для тестирования\n",
        "    \n",
        "    В течение нескольких секунд достигает использования памяти 1.89G\n",
        "    Потребление памяти и скорость накопления можно варьировать, изменяя код\n",
        "    \"\"\"\n",
        "    lst = []\n",
        "    for i in range(50000000):\n",
        "        if i % 500000 == 0:\n",
        "            time.sleep(0.1)\n",
        "        lst.append(i)\n",
        "    return lst"
      ]
    },
    {
      "cell_type": "code",
      "source": [
        "memory_increment()"
      ],
      "metadata": {
        "colab": {
          "base_uri": "https://localhost:8080/",
          "height": 294
        },
        "id": "axh841TEPPKM",
        "outputId": "71598625-d6e7-434b-8de3-dabe1fe0c734"
      },
      "id": "axh841TEPPKM",
      "execution_count": 25,
      "outputs": [
        {
          "output_type": "error",
          "ename": "MemoryError",
          "evalue": "ignored",
          "traceback": [
            "\u001b[0;31m---------------------------------------------------------------------------\u001b[0m",
            "\u001b[0;31mMemoryError\u001b[0m                               Traceback (most recent call last)",
            "\u001b[0;32m<ipython-input-25-d3f2c7c9ddd7>\u001b[0m in \u001b[0;36m<cell line: 1>\u001b[0;34m()\u001b[0m\n\u001b[0;32m----> 1\u001b[0;31m \u001b[0mmemory_increment\u001b[0m\u001b[0;34m(\u001b[0m\u001b[0;34m)\u001b[0m\u001b[0;34m\u001b[0m\u001b[0;34m\u001b[0m\u001b[0m\n\u001b[0m",
            "\u001b[0;32m<ipython-input-15-188a6bf67718>\u001b[0m in \u001b[0;36minner_function\u001b[0;34m(*args, **kwargs)\u001b[0m\n\u001b[1;32m     47\u001b[0m                     \u001b[0mmax\u001b[0m \u001b[0;34m=\u001b[0m \u001b[0mmemory\u001b[0m\u001b[0;34m\u001b[0m\u001b[0;34m\u001b[0m\u001b[0m\n\u001b[1;32m     48\u001b[0m                 \u001b[0;32mif\u001b[0m \u001b[0mhard_bytes\u001b[0m \u001b[0;32mand\u001b[0m \u001b[0mmax\u001b[0m \u001b[0;34m>\u001b[0m \u001b[0mhard_bytes\u001b[0m\u001b[0;34m:\u001b[0m\u001b[0;34m\u001b[0m\u001b[0;34m\u001b[0m\u001b[0m\n\u001b[0;32m---> 49\u001b[0;31m                     \u001b[0;32mraise\u001b[0m \u001b[0mMemoryError\u001b[0m\u001b[0;34m(\u001b[0m\u001b[0;34mf\"Memory hard limit exceeded: {bytes_to_human_readable(max)} > {hard_limit}\"\u001b[0m\u001b[0;34m)\u001b[0m\u001b[0;34m\u001b[0m\u001b[0;34m\u001b[0m\u001b[0m\n\u001b[0m\u001b[1;32m     50\u001b[0m                 \u001b[0;32mif\u001b[0m \u001b[0msoft_bytes\u001b[0m \u001b[0;32mand\u001b[0m \u001b[0;32mnot\u001b[0m \u001b[0mwarning\u001b[0m \u001b[0;32mand\u001b[0m \u001b[0mmax\u001b[0m \u001b[0;34m>\u001b[0m \u001b[0msoft_bytes\u001b[0m\u001b[0;34m:\u001b[0m\u001b[0;34m\u001b[0m\u001b[0;34m\u001b[0m\u001b[0m\n\u001b[1;32m     51\u001b[0m                     \u001b[0mwarning\u001b[0m \u001b[0;34m=\u001b[0m \u001b[0;32mTrue\u001b[0m\u001b[0;34m\u001b[0m\u001b[0;34m\u001b[0m\u001b[0m\n",
            "\u001b[0;31mMemoryError\u001b[0m: Memory hard limit exceeded: 4.58G > 1.5G"
          ]
        }
      ]
    },
    {
      "cell_type": "code",
      "source": [
        "@memory_limit(soft_limit=\"100M\", hard_limit=\"10G\", poll_interval=0.1)\n",
        "def memory_increment():\n",
        "    \"\"\"\n",
        "    Функция для тестирования\n",
        "    \n",
        "    В течение нескольких секунд достигает использования памяти 1.89G\n",
        "    Потребление памяти и скорость накопления можно варьировать, изменяя код\n",
        "    \"\"\"\n",
        "    lst = []\n",
        "    for i in range(50000000):\n",
        "        if i % 500000 == 0:\n",
        "            time.sleep(0.1)\n",
        "        lst.append(i)\n",
        "    return lst"
      ],
      "metadata": {
        "id": "Jw9Ex2yZHylL"
      },
      "id": "Jw9Ex2yZHylL",
      "execution_count": 28,
      "outputs": []
    },
    {
      "cell_type": "code",
      "source": [
        "memory_increment()"
      ],
      "metadata": {
        "colab": {
          "base_uri": "https://localhost:8080/",
          "height": 353
        },
        "id": "JviGluxzH3Se",
        "outputId": "4703d982-3bfd-4de8-aebd-ff67f7ea4882"
      },
      "id": "JviGluxzH3Se",
      "execution_count": 29,
      "outputs": [
        {
          "output_type": "stream",
          "name": "stderr",
          "text": [
            "<ipython-input-15-188a6bf67718>:52: UserWarning: Memory soft limit exceeded: 4.58G > 100M\n",
            "  warnings.warn(f\"Memory soft limit exceeded: {bytes_to_human_readable(max)} > {soft_limit}\")\n"
          ]
        },
        {
          "output_type": "error",
          "ename": "KeyboardInterrupt",
          "evalue": "ignored",
          "traceback": [
            "\u001b[0;31m---------------------------------------------------------------------------\u001b[0m",
            "\u001b[0;31mKeyboardInterrupt\u001b[0m                         Traceback (most recent call last)",
            "\u001b[0;32m<ipython-input-29-d3f2c7c9ddd7>\u001b[0m in \u001b[0;36m<cell line: 1>\u001b[0;34m()\u001b[0m\n\u001b[0;32m----> 1\u001b[0;31m \u001b[0mmemory_increment\u001b[0m\u001b[0;34m(\u001b[0m\u001b[0;34m)\u001b[0m\u001b[0;34m\u001b[0m\u001b[0;34m\u001b[0m\u001b[0m\n\u001b[0m",
            "\u001b[0;32m<ipython-input-15-188a6bf67718>\u001b[0m in \u001b[0;36minner_function\u001b[0;34m(*args, **kwargs)\u001b[0m\n\u001b[1;32m     51\u001b[0m                     \u001b[0mwarning\u001b[0m \u001b[0;34m=\u001b[0m \u001b[0;32mTrue\u001b[0m\u001b[0;34m\u001b[0m\u001b[0;34m\u001b[0m\u001b[0m\n\u001b[1;32m     52\u001b[0m                     \u001b[0mwarnings\u001b[0m\u001b[0;34m.\u001b[0m\u001b[0mwarn\u001b[0m\u001b[0;34m(\u001b[0m\u001b[0;34mf\"Memory soft limit exceeded: {bytes_to_human_readable(max)} > {soft_limit}\"\u001b[0m\u001b[0;34m)\u001b[0m\u001b[0;34m\u001b[0m\u001b[0;34m\u001b[0m\u001b[0m\n\u001b[0;32m---> 53\u001b[0;31m                 \u001b[0mresult\u001b[0m \u001b[0;34m=\u001b[0m \u001b[0mfunc\u001b[0m\u001b[0;34m(\u001b[0m\u001b[0;34m*\u001b[0m\u001b[0margs\u001b[0m\u001b[0;34m,\u001b[0m \u001b[0;34m**\u001b[0m\u001b[0mkwargs\u001b[0m\u001b[0;34m)\u001b[0m\u001b[0;34m\u001b[0m\u001b[0;34m\u001b[0m\u001b[0m\n\u001b[0m\u001b[1;32m     54\u001b[0m \u001b[0;34m\u001b[0m\u001b[0m\n\u001b[1;32m     55\u001b[0m                 \u001b[0;32mif\u001b[0m \u001b[0mmemory\u001b[0m \u001b[0;34m==\u001b[0m \u001b[0mget_memory_usage\u001b[0m\u001b[0;34m(\u001b[0m\u001b[0;34m)\u001b[0m\u001b[0;34m:\u001b[0m\u001b[0;34m\u001b[0m\u001b[0;34m\u001b[0m\u001b[0m\n",
            "\u001b[0;32m<ipython-input-28-181738cae2f8>\u001b[0m in \u001b[0;36mmemory_increment\u001b[0;34m()\u001b[0m\n\u001b[1;32m     10\u001b[0m     \u001b[0;32mfor\u001b[0m \u001b[0mi\u001b[0m \u001b[0;32min\u001b[0m \u001b[0mrange\u001b[0m\u001b[0;34m(\u001b[0m\u001b[0;36m50000000\u001b[0m\u001b[0;34m)\u001b[0m\u001b[0;34m:\u001b[0m\u001b[0;34m\u001b[0m\u001b[0;34m\u001b[0m\u001b[0m\n\u001b[1;32m     11\u001b[0m         \u001b[0;32mif\u001b[0m \u001b[0mi\u001b[0m \u001b[0;34m%\u001b[0m \u001b[0;36m500000\u001b[0m \u001b[0;34m==\u001b[0m \u001b[0;36m0\u001b[0m\u001b[0;34m:\u001b[0m\u001b[0;34m\u001b[0m\u001b[0;34m\u001b[0m\u001b[0m\n\u001b[0;32m---> 12\u001b[0;31m             \u001b[0mtime\u001b[0m\u001b[0;34m.\u001b[0m\u001b[0msleep\u001b[0m\u001b[0;34m(\u001b[0m\u001b[0;36m0.1\u001b[0m\u001b[0;34m)\u001b[0m\u001b[0;34m\u001b[0m\u001b[0;34m\u001b[0m\u001b[0m\n\u001b[0m\u001b[1;32m     13\u001b[0m         \u001b[0mlst\u001b[0m\u001b[0;34m.\u001b[0m\u001b[0mappend\u001b[0m\u001b[0;34m(\u001b[0m\u001b[0mi\u001b[0m\u001b[0;34m)\u001b[0m\u001b[0;34m\u001b[0m\u001b[0;34m\u001b[0m\u001b[0m\n\u001b[1;32m     14\u001b[0m     \u001b[0;32mreturn\u001b[0m \u001b[0mlst\u001b[0m\u001b[0;34m\u001b[0m\u001b[0;34m\u001b[0m\u001b[0m\n",
            "\u001b[0;31mKeyboardInterrupt\u001b[0m: "
          ]
        }
      ]
    },
    {
      "cell_type": "markdown",
      "id": "4bf0a185-3fd7-4d48-bfeb-cf6ce8b12893",
      "metadata": {
        "id": "4bf0a185-3fd7-4d48-bfeb-cf6ce8b12893"
      },
      "source": [
        "# Задание 3 (11 баллов)"
      ]
    },
    {
      "cell_type": "markdown",
      "id": "77eec6f5-3d52-43fc-b241-9114eb9c813c",
      "metadata": {
        "id": "77eec6f5-3d52-43fc-b241-9114eb9c813c"
      },
      "source": [
        "Напишите функцию `parallel_map`. Это должна быть **универсальная** функция для распараллеливания, которая эффективно работает в любых условиях.\n",
        "\n",
        "Функция должна принимать следующие аргументы:\n",
        "1. `target_func` - целевая функция (обязательный аргумент)\n",
        "2. `args_container` - контейнер с позиционными аргументами для `target_func` (по-умолчанию `None` - позиционные аргументы не передаются)\n",
        "3. `kwargs_container` - контейнер с именованными аргументами для `target_func` (по-умолчанию `None` - именованные аргументы не передаются)\n",
        "4. `n_jobs` - количество workers, которые будут использованы для выполнения (по-умолчанию `None` - количество логических ядер CPU в системе)\n",
        "\n",
        "Функция должна работать аналогично `***PoolExecutor.map`, применяя функцию к переданному набору аргументов, но с некоторыми дополнениями и улучшениями\n",
        "    \n",
        "Поскольку мы пишем **универсальную** функцию, то нам нужно будет выполнить ряд требований, чтобы она могла логично и эффективно работать в большинстве ситуаций\n",
        "\n",
        "1. `target_func` может принимать аргументы любого вида в любом количестве\n",
        "2. Любые типы данных в `args_container`, кроме `tuple`, передаются в `target_func` как единственный позиционный аргумент. `tuple` распаковываются в несколько аргументов\n",
        "3. Количество элементов в `args_container` должно совпадать с количеством элементов в `kwargs_container` и наоборот, также значение одного из них или обоих может быть равно `None`, в иных случаях должна кидаться ошибка (оба аргумента переданы, но размеры не совпадают)\n",
        "\n",
        "4. Функция должна выполнять определённое количество параллельных вызовов `target_func`, это количество зависит от числа переданных аргументов и значения `n_jobs`. Сценарии могут быть следующие\n",
        "    + `args_container=None`, `kwargs_container=None`, `n_jobs=None`. В таком случае функция `target_func` выполнится параллельно столько раз, сколько на вашем устройстве логических ядер CPU\n",
        "    + `args_container=None`, `kwargs_container=None`, `n_jobs=5`. В таком случае функция `target_func` выполнится параллельно **5** раз\n",
        "    + `args_container=[1, 2, 3]`, `kwargs_container=None`, `n_jobs=5`. В таком случае функция `target_func` выполнится параллельно **3** раза, несмотря на то, что `n_jobs=5` (так как есть всего 3 набора аргументов для которых нам нужно получить результат, а лишние worker'ы создавать не имеет смысла)\n",
        "    + `args_container=None`, `kwargs_container=[{\"s\": 1}, {\"s\": 2}, {\"s\": 3}]`, `n_jobs=5`. Данный случай аналогичен предыдущему, но здесь мы используем именованные аргументы\n",
        "    + `args_container=[1, 2, 3]`, `kwargs_container=[{\"s\": 1}, {\"s\": 2}, {\"s\": 3}]`, `n_jobs=5`. Данный случай аналогичен предыдущему, но здесь мы используем и позиционные, и именованные аргументы\n",
        "    + `args_container=[1, 2, 3, 4]`, `kwargs_container=None`, `n_jobs=2`. В таком случае в каждый момент времени параллельно будет выполняться **не более 2** функций `target_func`, так как нам нужно выполнить её 4 раза, но у нас есть только 2 worker'а.\n",
        "    + В подобных случаях (из примера выше) должно оптимизироваться время выполнения. Если эти 4 вызова выполняются за 5, 1, 2 и 1 секунды, то параллельное выполнение с `n_jobs=2` должно занять **5 секунд** (не 7 и тем более не 10)\n",
        "\n",
        "5. `parallel_map` возвращает результаты выполнения `target_func` **в том же порядке**, в котором были переданы соответствующие аргументы\n",
        "6. Работает с функциями, созданными внутри других функций\n",
        "\n",
        "Для базового решения от вас не ожидается **сверххорошая** оптимизация по времени и памяти для всех возможных случаев. Однако за хорошо оптимизированную логику работы можно получить до **+3 дополнительных баллов**\n",
        "\n",
        "Вы можете сделать класс вместо функции, если вам удобнее\n",
        "\n",
        "В задании можно использовать только модули из **стандартной библиотеки** питона\n",
        "\n",
        "Ниже приведены тестовые примеры по каждому из требований"
      ]
    },
    {
      "cell_type": "code",
      "execution_count": null,
      "id": "a917005b-bc1e-4229-9eef-d33bfe7050c2",
      "metadata": {
        "id": "a917005b-bc1e-4229-9eef-d33bfe7050c2"
      },
      "outputs": [],
      "source": [
        "def parallel_map(target_func,\n",
        "                 args_container=None,\n",
        "                 kwargs_container=None,\n",
        "                 n_jobs=None):\n",
        "    # Ваш код здесь"
      ]
    },
    {
      "cell_type": "code",
      "execution_count": null,
      "id": "0f41b1c8-0d26-483e-8114-1e7638006e34",
      "metadata": {
        "id": "0f41b1c8-0d26-483e-8114-1e7638006e34"
      },
      "outputs": [],
      "source": [
        "import time\n",
        "\n",
        "\n",
        "# Это только один пример тестовой функции, ваша parallel_map должна уметь эффективно работать с ЛЮБЫМИ функциями\n",
        "# Поэтому обязательно протестируйте код на чём-нибудбь ещё\n",
        "def test_func(x=1, s=2, a=1, b=1, c=1):\n",
        "    time.sleep(s)\n",
        "    return a*x**2 + b*x + c"
      ]
    },
    {
      "cell_type": "code",
      "execution_count": null,
      "id": "54d48c99-6e8a-4990-8944-e5da424efdbd",
      "metadata": {
        "id": "54d48c99-6e8a-4990-8944-e5da424efdbd",
        "outputId": "7961adbb-c1a9-4a73-d099-a1ffc01bade3"
      },
      "outputs": [
        {
          "name": "stdout",
          "output_type": "stream",
          "text": [
            "CPU times: user 395 µs, sys: 8.26 ms, total: 8.65 ms\n",
            "Wall time: 2.01 s\n"
          ]
        },
        {
          "data": {
            "text/plain": [
              "[3, 7.0, (-8-3j), 21]"
            ]
          },
          "execution_count": 157,
          "metadata": {},
          "output_type": "execute_result"
        }
      ],
      "source": [
        "%%time\n",
        "\n",
        "# Пример 2.1\n",
        "# Отдельные значения в args_container передаются в качестве позиционных аргументов\n",
        "parallel_map(test_func, args_container=[1, 2.0, 3j-1, 4])   # Здесь происходят параллельные вызовы: test_func(1) test_func(2.0) test_func(3j-1) test_func(4)"
      ]
    },
    {
      "cell_type": "code",
      "execution_count": null,
      "id": "dd0da716-5bbf-4925-b87a-7efe82c51cf9",
      "metadata": {
        "id": "dd0da716-5bbf-4925-b87a-7efe82c51cf9",
        "outputId": "0ef31a97-bff4-4700-ede1-9af5d908674d"
      },
      "outputs": [
        {
          "name": "stdout",
          "output_type": "stream",
          "text": [
            "CPU times: user 7.18 ms, sys: 7.73 ms, total: 14.9 ms\n",
            "Wall time: 3.01 s\n"
          ]
        },
        {
          "data": {
            "text/plain": [
              "[3, 7.0, (-8-3j), 21]"
            ]
          },
          "execution_count": 158,
          "metadata": {},
          "output_type": "execute_result"
        }
      ],
      "source": [
        "%%time\n",
        "\n",
        "# Пример 2.2\n",
        "# Элементы типа tuple в args_container распаковываются в качестве позиционных аргументов\n",
        "parallel_map(test_func, [(1, 1), (2.0, 2), (3j-1, 3), 4])    # Здесь происходят параллельные вызовы: test_func(1, 1) test_func(2.0, 2) test_func(3j-1, 3) test_func(4)"
      ]
    },
    {
      "cell_type": "code",
      "execution_count": null,
      "id": "e2a0e6fd-1d92-4f06-9e4b-51290501c2da",
      "metadata": {
        "id": "e2a0e6fd-1d92-4f06-9e4b-51290501c2da",
        "outputId": "0bcf81fa-5588-4b0f-f747-25e4c8b976a5"
      },
      "outputs": [
        {
          "name": "stdout",
          "output_type": "stream",
          "text": [
            "CPU times: user 5.89 ms, sys: 8.84 ms, total: 14.7 ms\n",
            "Wall time: 3.02 s\n"
          ]
        },
        {
          "data": {
            "text/plain": [
              "[3, 7, 13, 21]"
            ]
          },
          "execution_count": 159,
          "metadata": {},
          "output_type": "execute_result"
        }
      ],
      "source": [
        "%%time\n",
        "\n",
        "# Пример 3.1\n",
        "# Возможна одновременная передача args_container и kwargs_container, но количества элементов в них должны быть равны\n",
        "parallel_map(test_func,\n",
        "             args_container=[1, 2, 3, 4],\n",
        "             kwargs_container=[{\"s\": 3}, {\"s\": 3}, {\"s\": 3}, {\"s\": 3}])\n",
        "\n",
        "# Здесь происходят параллельные вызовы: test_func(1, s=3) test_func(2, s=3) test_func(3, s=3) test_func(4, s=3)"
      ]
    },
    {
      "cell_type": "code",
      "execution_count": null,
      "id": "34cda7e6-b24a-4564-958f-c4cf20b7ed7c",
      "metadata": {
        "id": "34cda7e6-b24a-4564-958f-c4cf20b7ed7c",
        "outputId": "09f49133-668a-4c62-9895-a39ab72718d0"
      },
      "outputs": [
        {
          "name": "stdout",
          "output_type": "stream",
          "text": [
            "CPU times: user 6.54 ms, sys: 6.06 ms, total: 12.6 ms\n",
            "Wall time: 3.02 s\n"
          ]
        },
        {
          "data": {
            "text/plain": [
              "[3, 3, 3, 3]"
            ]
          },
          "execution_count": 42,
          "metadata": {},
          "output_type": "execute_result"
        }
      ],
      "source": [
        "%%time\n",
        "\n",
        "# Пример 3.2\n",
        "# args_container может быть None, а kwargs_container задан явно\n",
        "parallel_map(test_func,\n",
        "             kwargs_container=[{\"s\": 3}, {\"s\": 3}, {\"s\": 3}, {\"s\": 3}])"
      ]
    },
    {
      "cell_type": "code",
      "execution_count": null,
      "id": "e75853e1-1ed8-43c5-b045-e30dd34a9f34",
      "metadata": {
        "id": "e75853e1-1ed8-43c5-b045-e30dd34a9f34",
        "outputId": "87c3826c-7ac9-4a17-ba06-e7776b7ed0ed"
      },
      "outputs": [
        {
          "name": "stdout",
          "output_type": "stream",
          "text": [
            "CPU times: user 4.11 ms, sys: 9.2 ms, total: 13.3 ms\n",
            "Wall time: 2.01 s\n"
          ]
        },
        {
          "data": {
            "text/plain": [
              "[3, 7, 13, 21]"
            ]
          },
          "execution_count": 43,
          "metadata": {},
          "output_type": "execute_result"
        }
      ],
      "source": [
        "%%time\n",
        "\n",
        "# Пример 3.3\n",
        "# kwargs_container может быть None, а args_container задан явно\n",
        "parallel_map(test_func,\n",
        "             args_container=[1, 2, 3, 4])"
      ]
    },
    {
      "cell_type": "code",
      "execution_count": null,
      "id": "55bd628f-0456-4b3f-8cea-ccbfc0e0dd72",
      "metadata": {
        "id": "55bd628f-0456-4b3f-8cea-ccbfc0e0dd72",
        "outputId": "b823dd7e-500d-4140-a8ff-94b5a5f08a0f"
      },
      "outputs": [
        {
          "name": "stdout",
          "output_type": "stream",
          "text": [
            "CPU times: user 500 µs, sys: 43.3 ms, total: 43.8 ms\n",
            "Wall time: 2.04 s\n"
          ]
        },
        {
          "data": {
            "text/plain": [
              "[3, 3, 3, 3, 3, 3, 3, 3, 3, 3, 3, 3, 3, 3, 3, 3, 3, 3, 3, 3, 3, 3, 3, 3]"
            ]
          },
          "execution_count": 44,
          "metadata": {},
          "output_type": "execute_result"
        }
      ],
      "source": [
        "%%time\n",
        "\n",
        "# Пример 3.4\n",
        "# И kwargs_container, и args_container могут быть не заданы\n",
        "parallel_map(test_func)"
      ]
    },
    {
      "cell_type": "code",
      "execution_count": null,
      "id": "2aa43efd-6628-46e3-970a-018be26fef3f",
      "metadata": {
        "id": "2aa43efd-6628-46e3-970a-018be26fef3f",
        "outputId": "459517a6-f569-4652-8d2d-1b91cfa1031d"
      },
      "outputs": [
        {
          "name": "stdout",
          "output_type": "stream",
          "text": [
            "CPU times: user 500 µs, sys: 43.3 ms, total: 43.8 ms\n",
            "Wall time: 2.04 s\n"
          ]
        },
        {
          "data": {
            "text/plain": [
              "[3, 3, 3, 3, 3, 3, 3, 3, 3, 3, 3, 3, 3, 3, 3, 3, 3, 3, 3, 3, 3, 3, 3, 3]"
            ]
          },
          "execution_count": 44,
          "metadata": {},
          "output_type": "execute_result"
        }
      ],
      "source": [
        "%%time\n",
        "\n",
        "# Пример 3.4\n",
        "# И kwargs_container, и args_container могут быть не заданы\n",
        "parallel_map(test_func)"
      ]
    },
    {
      "cell_type": "code",
      "execution_count": null,
      "id": "bcdf8016-8363-4876-b05d-d1b536261f01",
      "metadata": {
        "id": "bcdf8016-8363-4876-b05d-d1b536261f01",
        "outputId": "32cdf5d4-bae5-4376-efa4-12b1d1da4351"
      },
      "outputs": [
        {
          "ename": "ValueError",
          "evalue": "Numbers of positional arguments and keyword arguments do not match: 4 and 3",
          "output_type": "error",
          "traceback": [
            "\u001b[0;31m---------------------------------------------------------------------------\u001b[0m",
            "\u001b[0;31mValueError\u001b[0m                                Traceback (most recent call last)",
            "File \u001b[0;32m<timed exec>:8\u001b[0m, in \u001b[0;36m<module>\u001b[0;34m\u001b[0m\n",
            "\u001b[0;31mValueError\u001b[0m: Numbers of positional arguments and keyword arguments do not match: 4 and 3"
          ]
        }
      ],
      "source": [
        "%%time\n",
        "\n",
        "# Пример 3.5\n",
        "# При несовпадении количеств позиционных и именованных аргументов кидается ошибка\n",
        "parallel_map(test_func,\n",
        "             args_container=[1, 2, 3, 4],\n",
        "             kwargs_container=[{\"s\": 3}, {\"s\": 3}, {\"s\": 3}])"
      ]
    },
    {
      "cell_type": "code",
      "execution_count": null,
      "id": "115e5fea-0692-424e-acb5-e2d97391bad5",
      "metadata": {
        "id": "115e5fea-0692-424e-acb5-e2d97391bad5",
        "outputId": "fa1a2e42-19a9-4bc7-ea4d-9788e266483f"
      },
      "outputs": [
        {
          "name": "stdout",
          "output_type": "stream",
          "text": [
            "CPU times: user 9.3 ms, sys: 51.2 ms, total: 60.5 ms\n",
            "Wall time: 2.06 s\n"
          ]
        },
        {
          "data": {
            "text/plain": [
              "[3, 3, 3, 3, 3, 3, 3, 3, 3, 3, 3, 3, 3, 3, 3, 3, 3, 3, 3, 3, 3, 3, 3, 3]"
            ]
          },
          "execution_count": 45,
          "metadata": {},
          "output_type": "execute_result"
        }
      ],
      "source": [
        "%%time\n",
        "\n",
        "# Пример 4.1\n",
        "# Если функция не имеет обязательных аргументов и аргумент n_jobs не был передан, то она выполняется параллельно столько раз, сколько ваш CPU имеет логических ядер\n",
        "# В моём случае это 24, у вас может быть больше или меньше\n",
        "parallel_map(test_func)"
      ]
    },
    {
      "cell_type": "code",
      "execution_count": null,
      "id": "212fcdbe-a9f3-4eba-8d3f-7da0b853bffd",
      "metadata": {
        "id": "212fcdbe-a9f3-4eba-8d3f-7da0b853bffd",
        "outputId": "3a786903-79ac-44dd-dd72-7f16df45f5dc"
      },
      "outputs": [
        {
          "name": "stdout",
          "output_type": "stream",
          "text": [
            "CPU times: user 2.06 ms, sys: 5.92 ms, total: 7.99 ms\n",
            "Wall time: 2.01 s\n"
          ]
        },
        {
          "data": {
            "text/plain": [
              "[3, 3]"
            ]
          },
          "execution_count": 47,
          "metadata": {},
          "output_type": "execute_result"
        }
      ],
      "source": [
        "%%time\n",
        "\n",
        "# Пример 4.2\n",
        "# Если функция не имеет обязательных аргументов и передан только аргумент n_jobs, то она выполняется параллельно n_jobs раз\n",
        "parallel_map(test_func, n_jobs=2)"
      ]
    },
    {
      "cell_type": "code",
      "execution_count": null,
      "id": "202675af-11b9-485c-baa4-cc1ef8eb919d",
      "metadata": {
        "id": "202675af-11b9-485c-baa4-cc1ef8eb919d",
        "outputId": "294762d5-656a-4319-ae30-441d0db52bfd"
      },
      "outputs": [
        {
          "name": "stdout",
          "output_type": "stream",
          "text": [
            "CPU times: user 314 µs, sys: 8.69 ms, total: 9 ms\n",
            "Wall time: 2.01 s\n"
          ]
        },
        {
          "data": {
            "text/plain": [
              "[3, 7, 13]"
            ]
          },
          "execution_count": 48,
          "metadata": {},
          "output_type": "execute_result"
        }
      ],
      "source": [
        "%%time\n",
        "\n",
        "# Пример 4.3\n",
        "# Если аргументов для target_func указано МЕНЬШЕ, чем n_jobs, то используется такое же количество worker'ов, сколько было передано аргументов\n",
        "parallel_map(test_func,\n",
        "             args_container=[1, 2, 3],\n",
        "             n_jobs=5)   # Здесь используется 3 worker'a"
      ]
    },
    {
      "cell_type": "code",
      "execution_count": null,
      "id": "a0952cde-c347-438a-ad0b-15e1218e5b6f",
      "metadata": {
        "id": "a0952cde-c347-438a-ad0b-15e1218e5b6f",
        "outputId": "2f3dc376-145a-44fa-f8cb-249d8d676cf0"
      },
      "outputs": [
        {
          "name": "stdout",
          "output_type": "stream",
          "text": [
            "CPU times: user 1.26 ms, sys: 9.47 ms, total: 10.7 ms\n",
            "Wall time: 3.01 s\n"
          ]
        },
        {
          "data": {
            "text/plain": [
              "[3, 3, 3]"
            ]
          },
          "execution_count": 49,
          "metadata": {},
          "output_type": "execute_result"
        }
      ],
      "source": [
        "%%time\n",
        "\n",
        "# Пример 4.4\n",
        "# Аналогичный предыдущему случай, но с именованными аргументами\n",
        "parallel_map(test_func,\n",
        "             kwargs_container=[{\"s\": 3}, {\"s\": 3}, {\"s\": 3}],\n",
        "             n_jobs=5)   # Здесь используется 3 worker'a"
      ]
    },
    {
      "cell_type": "code",
      "execution_count": null,
      "id": "b2c7d286-6036-44b4-9686-d941297e9598",
      "metadata": {
        "id": "b2c7d286-6036-44b4-9686-d941297e9598",
        "outputId": "7f8f485c-431e-43e3-a938-5169f80e1fec"
      },
      "outputs": [
        {
          "name": "stdout",
          "output_type": "stream",
          "text": [
            "CPU times: user 7.88 ms, sys: 0 ns, total: 7.88 ms\n",
            "Wall time: 3.01 s\n"
          ]
        },
        {
          "data": {
            "text/plain": [
              "[3, 7, 13]"
            ]
          },
          "execution_count": 50,
          "metadata": {},
          "output_type": "execute_result"
        }
      ],
      "source": [
        "%%time\n",
        "\n",
        "# Пример 4.5\n",
        "# Комбинация примеров 4.3 и 4.4 (переданы и позиционные и именованные аргументы)\n",
        "parallel_map(test_func,\n",
        "             args_container=[1, 2, 3],\n",
        "             kwargs_container=[{\"s\": 3}, {\"s\": 3}, {\"s\": 3}],\n",
        "             n_jobs=5)   # Здесь используется 3 worker'a"
      ]
    },
    {
      "cell_type": "code",
      "execution_count": null,
      "id": "8b4649e2-a75b-4ede-8a46-32a0139fe998",
      "metadata": {
        "id": "8b4649e2-a75b-4ede-8a46-32a0139fe998",
        "outputId": "aea85e55-3666-4c1f-eee6-2a542cd1f5b7"
      },
      "outputs": [
        {
          "name": "stdout",
          "output_type": "stream",
          "text": [
            "CPU times: user 7.88 ms, sys: 0 ns, total: 7.88 ms\n",
            "Wall time: 3.01 s\n"
          ]
        },
        {
          "data": {
            "text/plain": [
              "[3, 7, 13]"
            ]
          },
          "execution_count": 50,
          "metadata": {},
          "output_type": "execute_result"
        }
      ],
      "source": [
        "%%time\n",
        "\n",
        "# Пример 4.6\n",
        "# Если аргументов для target_func указано БОЛЬШЕ, чем n_jobs, то используется n_jobs worker'ов\n",
        "parallel_map(test_func,\n",
        "             args_container=[1, 2, 3, 4],\n",
        "             kwargs_container=None,\n",
        "             n_jobs=2)   # Здесь используется 2 worker'a"
      ]
    },
    {
      "cell_type": "code",
      "execution_count": null,
      "id": "627aa784-15b5-41ca-b232-73c88c5ebed9",
      "metadata": {
        "id": "627aa784-15b5-41ca-b232-73c88c5ebed9",
        "outputId": "4f9cd64a-02c3-4c9b-bcb6-9a5833c95f27"
      },
      "outputs": [
        {
          "name": "stdout",
          "output_type": "stream",
          "text": [
            "CPU times: user 3.03 ms, sys: 11 ms, total: 14 ms\n",
            "Wall time: 5.01 s\n"
          ]
        },
        {
          "data": {
            "text/plain": [
              "[3, 3, 3, 3]"
            ]
          },
          "execution_count": 51,
          "metadata": {},
          "output_type": "execute_result"
        }
      ],
      "source": [
        "%%time\n",
        "\n",
        "# Пример 4.7\n",
        "# Время выполнения оптимизируется, данный код должен отрабатывать за 5 секунд\n",
        "parallel_map(test_func,\n",
        "             kwargs_container=[{\"s\": 5}, {\"s\": 1}, {\"s\": 2}, {\"s\": 1}],\n",
        "             n_jobs=2)"
      ]
    },
    {
      "cell_type": "code",
      "execution_count": null,
      "id": "55bbfb49-4891-48c8-9cd7-782567b2a8fa",
      "metadata": {
        "id": "55bbfb49-4891-48c8-9cd7-782567b2a8fa",
        "outputId": "17bb568e-859d-44e5-c02a-c4dd1bd05890"
      },
      "outputs": [
        {
          "data": {
            "text/plain": [
              "['first', 'second', 'third', 'fourth', 'fifth']"
            ]
          },
          "execution_count": 57,
          "metadata": {},
          "output_type": "execute_result"
        }
      ],
      "source": [
        "def test_func2(string, sleep_time=1):\n",
        "    time.sleep(sleep_time)\n",
        "    return string\n",
        "\n",
        "# Пример 5\n",
        "# Результаты возвращаются в том же порядке, в котором были переданы соответствующие аргументы вне зависимости от того, когда завершился worker\n",
        "arguments = [\"first\", \"second\", \"third\", \"fourth\", \"fifth\"]\n",
        "parallel_map(test_func2,\n",
        "             args_container=arguments,\n",
        "             kwargs_container=[{\"sleep_time\": 5}, {\"sleep_time\": 4}, {\"sleep_time\": 3}, {\"sleep_time\": 2}, {\"sleep_time\": 1}])"
      ]
    },
    {
      "cell_type": "code",
      "execution_count": null,
      "id": "a5c2bcab-baa8-4f95-aceb-8cd6635844d6",
      "metadata": {
        "id": "a5c2bcab-baa8-4f95-aceb-8cd6635844d6",
        "outputId": "5cd5c0a8-499a-45f3-c768-94dbe6effe67"
      },
      "outputs": [
        {
          "data": {
            "text/plain": [
              "[None, None, None]"
            ]
          },
          "execution_count": 58,
          "metadata": {},
          "output_type": "execute_result"
        }
      ],
      "source": [
        "%%time\n",
        "\n",
        "\n",
        "def test_func3():\n",
        "    def inner_test_func(sleep_time):\n",
        "        time.sleep(sleep_time)\n",
        "    return parallel_map(inner_test_func, args_container=[1, 2, 3])\n",
        "\n",
        "# Пример 6\n",
        "# Работает с функциями, созданными внутри других функций\n",
        "test_func3()"
      ]
    }
  ],
  "metadata": {
    "kernelspec": {
      "display_name": "Python 3 (ipykernel)",
      "language": "python",
      "name": "python3"
    },
    "language_info": {
      "codemirror_mode": {
        "name": "ipython",
        "version": 3
      },
      "file_extension": ".py",
      "mimetype": "text/x-python",
      "name": "python",
      "nbconvert_exporter": "python",
      "pygments_lexer": "ipython3",
      "version": "3.9.12"
    },
    "colab": {
      "provenance": []
    }
  },
  "nbformat": 4,
  "nbformat_minor": 5
}