{
  "cells": [
    {
      "cell_type": "markdown",
      "id": "7c5a538f-2dbe-445c-9f46-cf0dc18867e4",
      "metadata": {
        "id": "7c5a538f-2dbe-445c-9f46-cf0dc18867e4"
      },
      "source": [
        "# Задание 1 (5 баллов)"
      ]
    },
    {
      "cell_type": "markdown",
      "id": "1e8cc3b0-6f60-40da-8058-30d9eb434daf",
      "metadata": {
        "id": "1e8cc3b0-6f60-40da-8058-30d9eb434daf"
      },
      "source": [
        "Напишите классы **Chat**, **Message** и **User**. Они должны соответствовать следующим требованиям:\n",
        "\n",
        "**Chat**:\n",
        "+ Должен иметь атрибут `chat_history`, где будут храниться все сообщения (`Message`) в обратном хронологическом порядке (сначала новые, затем старые)\n",
        "+ Должен иметь метод `show_last_message`, выводящий на экран информацию о последнем сообщении\n",
        "+ Должен иметь метод `get_history_from_time_period`, который принимает два опциональных аргумента (даты с которой и по какую мы ищем сообщения и выдаём их). Метод также должен возвращать объект типа `Chat`\n",
        "+ Должен иметь метод `show_chat`, выводящий на экран все сообщения (каждое сообщение в таком же виде как и `show_last_message`, но с разделителем между ними)\n",
        "+ Должен иметь метод `recieve`, который будет принимать сообщение и добавлять его в чат\n",
        "\n",
        "**Message**:\n",
        "+ Должен иметь три обязательных атрибута\n",
        "    + `text` - текст сообщения\n",
        "    + `datetime` - дата и время сообщения (встроенный модуль datetime вам в помощь). Важно! Это должна быть не дата создания сообщения, а дата его попадания в чат! \n",
        "    + `user` - информация о пользователе, который оставил сообщение (какой тип данных использовать здесь, разберётесь сами)\n",
        "+ Должен иметь метод `show`, который печатает или возвращает информацию о сообщении с необходимой информацией (дата, время, юзер, текст)\n",
        "+ Должен иметь метод `send`, который будет отправлять сообщение в чат\n",
        "\n",
        "**User**:\n",
        "+ Класс с информацией о юзере, наполнение для этого класса придумайте сами\n",
        "\n",
        "Напишите несколько примеров использования кода, которое показывает взаимодействие между объектами.\n",
        "\n",
        "В тексте задания намерено не указано, какие аргументы должны принимать методы, пускай вам в этом поможет здравый смысл)\n",
        "\n",
        "В этом задании не стоит флексить всякими продвинутыми штуками, для этого есть последующие\n",
        "\n",
        "В этом задании можно использовать только модуль `datetime`"
      ]
    },
    {
      "cell_type": "code",
      "source": [
        "import datetime"
      ],
      "metadata": {
        "id": "47obI8XhniPj"
      },
      "id": "47obI8XhniPj",
      "execution_count": 121,
      "outputs": []
    },
    {
      "cell_type": "code",
      "execution_count": 122,
      "id": "d14ce6ca-7294-492c-8a01-3f7547680474",
      "metadata": {
        "id": "d14ce6ca-7294-492c-8a01-3f7547680474"
      },
      "outputs": [],
      "source": [
        "class Chat:\n",
        "    \n",
        "    def __init__(self, chat_history=[]):\n",
        "        self.chat_history = chat_history\n",
        "    \n",
        "    def show_last_message(self):\n",
        "        print(*self.chat_history[0])\n",
        "    \n",
        "    def get_history_from_time_period(self, date_from=None, date_to=None):\n",
        "        if date_from and date_to:\n",
        "            message_from = -1\n",
        "            message_to = 0\n",
        "            for message_ind in range(len(self.chat_history)-1, -1, -1):\n",
        "                if message_from == -1 and self.chat_history[message_ind][1] == date_from:\n",
        "                    message_from = message_ind\n",
        "                if self.chat_history[message_ind][1] == date_to:\n",
        "                    message_to = message_ind\n",
        "            return self.chat_history[message_to:message_from+1]\n",
        "        else:\n",
        "            return self.chat_history\n",
        "    \n",
        "    def show_chat(self):\n",
        "        for message in self.chat_history:\n",
        "            print(*message)\n",
        "    \n",
        "    def recieve(self, Message):\n",
        "        message = [Message.text, datetime.datetime.now().strftime(\"%d/%m/%y %H:%M\"), Message.user.info()]\n",
        "        self.chat_history.insert(0, message)\n",
        "\n",
        "class Message:\n",
        "    \n",
        "    def __init__(self, text:str, user, chat):\n",
        "        self.text = text\n",
        "        self.datetime = None\n",
        "        self.user = user\n",
        "        self.chat = chat\n",
        "            \n",
        "    def show(self):\n",
        "        for message in self.chat.chat_history:\n",
        "            if message[0] == self.text:\n",
        "                print(*message)\n",
        "                return\n",
        "        else:\n",
        "            print(*[self.text, \"DRAFT\", self.user.info()])\n",
        "    \n",
        "    def send(self):\n",
        "        self.chat.recieve(self)\n",
        "\n",
        "class User:\n",
        "    \n",
        "    def __init__(self, name:str, nickname=None, age=None, city=None):\n",
        "        self.name = name\n",
        "        self.nickname = nickname\n",
        "        self.age = age\n",
        "        self.city = city\n",
        "    \n",
        "    def info(self):\n",
        "        if self.nickname and self.name.find(self.nickname) == -1:\n",
        "            self.name += \" \" + self.nickname\n",
        "        if self.age and self.name.find(self.age) == -1:\n",
        "            self.name += \" \" + self.age\n",
        "        if self.city and self.name.find(self.city) == -1:\n",
        "            self.name += \" \" + self.city\n",
        "        return self.name\n"
      ]
    },
    {
      "cell_type": "code",
      "source": [
        "user1 = User(\"Kate\", \"heycallisto\", \"22\", \"Dolgoprudny\")\n",
        "user2 = User(\"Sergei\", \"OlegDoom\", \"22\", \"Dolgoprudny\")\n",
        "\n",
        "chat = Chat()"
      ],
      "metadata": {
        "id": "nsDdj641eBRc"
      },
      "id": "nsDdj641eBRc",
      "execution_count": 123,
      "outputs": []
    },
    {
      "cell_type": "code",
      "source": [
        "Message(\"Hi, Serge! How are you? :)\", user1, chat).send()\n",
        "Message(\"Hi, Kate) Fine, and you?\", user2, chat).send()"
      ],
      "metadata": {
        "id": "n0x1bocofnH7"
      },
      "id": "n0x1bocofnH7",
      "execution_count": 124,
      "outputs": []
    },
    {
      "cell_type": "code",
      "source": [
        "Message(\"Same) What about going to the gym tomorrow?\", user1, chat).send()\n",
        "Message(\"Nice idea, wanted to offer the same, but you was faster!\", user2, chat).send()"
      ],
      "metadata": {
        "id": "UdqiAOVhhAsv"
      },
      "id": "UdqiAOVhhAsv",
      "execution_count": 126,
      "outputs": []
    },
    {
      "cell_type": "code",
      "source": [
        "Message(\"Ha-ha! See you later :)\", user1, chat).send()\n",
        "Message(\"See you! Have a nice day)\", user2, chat).send()"
      ],
      "metadata": {
        "id": "keysQWevjYFU"
      },
      "id": "keysQWevjYFU",
      "execution_count": 127,
      "outputs": []
    },
    {
      "cell_type": "code",
      "source": [
        "chat.show_chat()"
      ],
      "metadata": {
        "colab": {
          "base_uri": "https://localhost:8080/"
        },
        "id": "SgpKKIbojmFL",
        "outputId": "006156bd-9d60-43b9-8bf6-030c04ae3b47"
      },
      "id": "SgpKKIbojmFL",
      "execution_count": 128,
      "outputs": [
        {
          "output_type": "stream",
          "name": "stdout",
          "text": [
            "See you! Have a nice day) 23/02/23 00:53 Sergei OlegDoom 22 Dolgoprudny\n",
            "Ha-ha! See you later :) 23/02/23 00:53 Kate heycallisto 22 Dolgoprudny\n",
            "Nice idea, wanted to offer the same, but you was faster! 23/02/23 00:53 Sergei OlegDoom 22 Dolgoprudny\n",
            "Same) What about going to the gym tomorrow? 23/02/23 00:53 Kate heycallisto 22 Dolgoprudny\n",
            "Nice idea, wanted to offer the same, but you was faster! 23/02/23 00:52 Sergei OlegDoom 22 Dolgoprudny\n",
            "Same) What about going to the gym tomorrow? 23/02/23 00:52 Kate heycallisto 22 Dolgoprudny\n",
            "Hi, Kate) Fine, and you? 23/02/23 00:52 Sergei OlegDoom 22 Dolgoprudny\n",
            "Hi, Serge! How are you? :) 23/02/23 00:52 Kate heycallisto 22 Dolgoprudny\n"
          ]
        }
      ]
    },
    {
      "cell_type": "code",
      "source": [
        "Message(\"Thank you, you too!\", user1, chat).show()"
      ],
      "metadata": {
        "colab": {
          "base_uri": "https://localhost:8080/"
        },
        "id": "0H01Su7Hk9aH",
        "outputId": "58c911ca-5888-4290-aaf8-412b97c47347"
      },
      "id": "0H01Su7Hk9aH",
      "execution_count": 129,
      "outputs": [
        {
          "output_type": "stream",
          "name": "stdout",
          "text": [
            "Thank you, you too! DRAFT Kate heycallisto 22 Dolgoprudny\n"
          ]
        }
      ]
    },
    {
      "cell_type": "code",
      "source": [
        "Message(\"Ha-ha! See you later :)\", user1, chat).show()"
      ],
      "metadata": {
        "colab": {
          "base_uri": "https://localhost:8080/"
        },
        "id": "6-BxLr8pt3vW",
        "outputId": "d9cae983-b77f-4f53-82b9-4dd3595beba5"
      },
      "id": "6-BxLr8pt3vW",
      "execution_count": 130,
      "outputs": [
        {
          "output_type": "stream",
          "name": "stdout",
          "text": [
            "Ha-ha! See you later :) 23/02/23 00:53 Kate heycallisto 22 Dolgoprudny\n"
          ]
        }
      ]
    },
    {
      "cell_type": "code",
      "source": [
        "chat.show_last_message()"
      ],
      "metadata": {
        "colab": {
          "base_uri": "https://localhost:8080/"
        },
        "id": "w0arJbjHuJV_",
        "outputId": "78c274d6-6e59-4199-becb-d5df170a5894"
      },
      "id": "w0arJbjHuJV_",
      "execution_count": 131,
      "outputs": [
        {
          "output_type": "stream",
          "name": "stdout",
          "text": [
            "See you! Have a nice day) 23/02/23 00:53 Sergei OlegDoom 22 Dolgoprudny\n"
          ]
        }
      ]
    },
    {
      "cell_type": "markdown",
      "id": "a59aa1b3-4c93-480e-a09f-e57df34eb60a",
      "metadata": {
        "id": "a59aa1b3-4c93-480e-a09f-e57df34eb60a"
      },
      "source": [
        "# Задание 2 (3 балла)"
      ]
    },
    {
      "cell_type": "markdown",
      "id": "ab07eb69-877f-4c38-8c7d-88beae20071b",
      "metadata": {
        "id": "ab07eb69-877f-4c38-8c7d-88beae20071b"
      },
      "source": [
        "В питоне как-то слишком типично и неинтересно происходят вызовы функций. Напишите класс `Args`, который будет хранить в себе аргументы, а функции можно будет вызывать при помощи следующего синтаксиса.\n",
        "\n",
        "Использовать любые модули **нельзя**, да и вряд-ли это как-то поможет)"
      ]
    },
    {
      "cell_type": "code",
      "source": [
        "sum([1, 2])"
      ],
      "metadata": {
        "colab": {
          "base_uri": "https://localhost:8080/"
        },
        "id": "t1KMdvKQppN7",
        "outputId": "a0ed8e39-3225-473c-8eda-2ef1876aa85f"
      },
      "id": "t1KMdvKQppN7",
      "execution_count": 71,
      "outputs": [
        {
          "output_type": "execute_result",
          "data": {
            "text/plain": [
              "3"
            ]
          },
          "metadata": {},
          "execution_count": 71
        }
      ]
    },
    {
      "cell_type": "code",
      "execution_count": 11,
      "id": "d73d6b31-c15a-4ae6-ad9b-b3fdab88efed",
      "metadata": {
        "id": "d73d6b31-c15a-4ae6-ad9b-b3fdab88efed"
      },
      "outputs": [],
      "source": [
        "class Args:\n",
        "    \n",
        "    def __init__(self, *args, **kwargs):\n",
        "        self.args = args\n",
        "        self.kwargs = kwargs\n",
        "    \n",
        "    def __rlshift__(self, func):\n",
        "        return func(*self.args, **self.kwargs)\n"
      ]
    },
    {
      "cell_type": "code",
      "execution_count": 12,
      "id": "55afedbb-4725-4078-bd98-bf803be0bf93",
      "metadata": {
        "id": "55afedbb-4725-4078-bd98-bf803be0bf93",
        "outputId": "147f04bc-c7e4-4d77-9b05-9e70de500d43",
        "colab": {
          "base_uri": "https://localhost:8080/"
        }
      },
      "outputs": [
        {
          "output_type": "execute_result",
          "data": {
            "text/plain": [
              "3"
            ]
          },
          "metadata": {},
          "execution_count": 12
        }
      ],
      "source": [
        "sum << Args([1, 2])"
      ]
    },
    {
      "cell_type": "code",
      "execution_count": 13,
      "id": "c37f0728-9bdc-469e-a5b8-3ab5aa43a731",
      "metadata": {
        "id": "c37f0728-9bdc-469e-a5b8-3ab5aa43a731",
        "outputId": "3ca5e1c5-87dc-4059-badb-3a2ca72086b4",
        "colab": {
          "base_uri": "https://localhost:8080/"
        }
      },
      "outputs": [
        {
          "output_type": "execute_result",
          "data": {
            "text/plain": [
              "53"
            ]
          },
          "metadata": {},
          "execution_count": 13
        }
      ],
      "source": [
        "(lambda a, b, c: a**2 + b + c) << Args(1, 2, c=50)"
      ]
    },
    {
      "cell_type": "markdown",
      "id": "d6915eaf-92fe-460b-bf9b-06ccf55b093f",
      "metadata": {
        "id": "d6915eaf-92fe-460b-bf9b-06ccf55b093f"
      },
      "source": [
        "# Задание 3 (5 баллов)"
      ]
    },
    {
      "cell_type": "markdown",
      "id": "5a588ef8-8af6-42b6-972b-3c716a604c34",
      "metadata": {
        "id": "5a588ef8-8af6-42b6-972b-3c716a604c34"
      },
      "source": [
        "Сделайте класс наследник `float`. Он должен вести себя как `float`, но также должен обладать некоторыми особенностями:\n",
        "+ При получении атрибутов формата `<действие>_<число>` мы получаем результат такого действия над нашим числом\n",
        "+ Создавать данные атрибуты в явном виде, очевидно, не стоит\n",
        "\n",
        "Подсказка: если в процессе гуглёжки, вы выйдете на такую тему как **\"Дескрипторы\", то это НЕ то, что вам сейчас нужно**\n",
        "\n",
        "Примеры использования ниже"
      ]
    },
    {
      "cell_type": "code",
      "execution_count": 4,
      "id": "61cb63a2-90ac-4b79-97a5-bb0496262e32",
      "metadata": {
        "id": "61cb63a2-90ac-4b79-97a5-bb0496262e32"
      },
      "outputs": [],
      "source": [
        "class StrangeFloat(float):\n",
        "    \n",
        "    def __getattr__(self, action:str):\n",
        "        if \"_\" in action and action[0:2] != \"__\":\n",
        "            splitted = action.split(\"_\")\n",
        "            action = splitted[0][0:3]\n",
        "            number = float(splitted[1])\n",
        "            if action == \"div\":\n",
        "                action = \"__truediv__\"\n",
        "            elif action == \"flo\":\n",
        "                action = \"__floordiv__\"\n",
        "            else:\n",
        "                action = \"__\" + action + \"__\"\n",
        "            return StrangeFloat(getattr(self, action)(number))\n"
      ]
    },
    {
      "cell_type": "markdown",
      "source": [
        "*PS \n",
        "Такой метод как выше будет работать только для тех методов которые сокращаются как subtract -> sub и для целочисл/обычного деления, тк прописано.*"
      ],
      "metadata": {
        "id": "8x8J4aocOwP2"
      },
      "id": "8x8J4aocOwP2"
    },
    {
      "cell_type": "code",
      "execution_count": 5,
      "id": "f730c9c0-7d90-4037-97c6-e926dcbc1ea3",
      "metadata": {
        "id": "f730c9c0-7d90-4037-97c6-e926dcbc1ea3"
      },
      "outputs": [],
      "source": [
        "number = StrangeFloat(3.5)"
      ]
    },
    {
      "cell_type": "code",
      "execution_count": 6,
      "id": "b2756368-a489-486d-a0f1-244697f8503c",
      "metadata": {
        "id": "b2756368-a489-486d-a0f1-244697f8503c",
        "outputId": "b0ed2de5-1a16-4f5d-c038-192f907de110",
        "colab": {
          "base_uri": "https://localhost:8080/"
        }
      },
      "outputs": [
        {
          "output_type": "execute_result",
          "data": {
            "text/plain": [
              "4.5"
            ]
          },
          "metadata": {},
          "execution_count": 6
        }
      ],
      "source": [
        "number.add_1"
      ]
    },
    {
      "cell_type": "code",
      "execution_count": 7,
      "id": "c6799592-3cb6-4c7d-af62-9c0a48a76c1d",
      "metadata": {
        "id": "c6799592-3cb6-4c7d-af62-9c0a48a76c1d",
        "outputId": "7607ecd4-6500-4cc0-d93a-fed7f4ff5a6a",
        "colab": {
          "base_uri": "https://localhost:8080/"
        }
      },
      "outputs": [
        {
          "output_type": "execute_result",
          "data": {
            "text/plain": [
              "-16.5"
            ]
          },
          "metadata": {},
          "execution_count": 7
        }
      ],
      "source": [
        "number.subtract_20"
      ]
    },
    {
      "cell_type": "code",
      "execution_count": 8,
      "id": "130027b5-017a-4c70-b072-1fdc6acf670f",
      "metadata": {
        "id": "130027b5-017a-4c70-b072-1fdc6acf670f",
        "outputId": "faab4e96-e4fd-461a-9000-219099f28eea",
        "colab": {
          "base_uri": "https://localhost:8080/"
        }
      },
      "outputs": [
        {
          "output_type": "execute_result",
          "data": {
            "text/plain": [
              "17.5"
            ]
          },
          "metadata": {},
          "execution_count": 8
        }
      ],
      "source": [
        "number.multiply_5"
      ]
    },
    {
      "cell_type": "code",
      "execution_count": 9,
      "id": "2b901e5c-5a51-4788-b15b-9b20a074e1a4",
      "metadata": {
        "id": "2b901e5c-5a51-4788-b15b-9b20a074e1a4",
        "outputId": "a577eca4-8dea-4918-96c0-726074f3f68e",
        "colab": {
          "base_uri": "https://localhost:8080/"
        }
      },
      "outputs": [
        {
          "output_type": "execute_result",
          "data": {
            "text/plain": [
              "0.14"
            ]
          },
          "metadata": {},
          "execution_count": 9
        }
      ],
      "source": [
        "number.divide_25"
      ]
    },
    {
      "cell_type": "code",
      "execution_count": 10,
      "id": "ea52c492-b0ce-4d73-8aba-a0ea51ed0b60",
      "metadata": {
        "id": "ea52c492-b0ce-4d73-8aba-a0ea51ed0b60",
        "outputId": "387843ff-f946-4143-a633-59fef03d0f57",
        "colab": {
          "base_uri": "https://localhost:8080/"
        }
      },
      "outputs": [
        {
          "output_type": "execute_result",
          "data": {
            "text/plain": [
              "-4.125"
            ]
          },
          "metadata": {},
          "execution_count": 10
        }
      ],
      "source": [
        "number.add_1.add_2.multiply_6.divide_8.subtract_9"
      ]
    },
    {
      "cell_type": "code",
      "execution_count": 11,
      "id": "e26ef411-a5df-46c7-bb9d-e77a1fad3cec",
      "metadata": {
        "id": "e26ef411-a5df-46c7-bb9d-e77a1fad3cec",
        "outputId": "6127e8c8-e301-4512-ab87-2aff33025115",
        "colab": {
          "base_uri": "https://localhost:8080/"
        }
      },
      "outputs": [
        {
          "output_type": "execute_result",
          "data": {
            "text/plain": [
              "1.0"
            ]
          },
          "metadata": {},
          "execution_count": 11
        }
      ],
      "source": [
        "getattr(number, \"add_-2.5\")   # Используем getattr, так как не можем написать number.add_-2.5 - это SyntaxError"
      ]
    },
    {
      "cell_type": "code",
      "execution_count": 12,
      "id": "7a57bb29-1105-4df1-a4c4-5fbf62eef11d",
      "metadata": {
        "id": "7a57bb29-1105-4df1-a4c4-5fbf62eef11d",
        "outputId": "b01d7c5c-cc69-4c1e-f268-18e495cfed64",
        "colab": {
          "base_uri": "https://localhost:8080/"
        }
      },
      "outputs": [
        {
          "output_type": "execute_result",
          "data": {
            "text/plain": [
              "11.5"
            ]
          },
          "metadata": {},
          "execution_count": 12
        }
      ],
      "source": [
        "number + 8   # Стандартные для float операции работают также"
      ]
    },
    {
      "cell_type": "code",
      "execution_count": 13,
      "id": "f0246b31-c55a-4bb8-ac15-46509bd8b340",
      "metadata": {
        "id": "f0246b31-c55a-4bb8-ac15-46509bd8b340",
        "outputId": "15e85605-bc94-41a0-b4ee-59f155b43423",
        "colab": {
          "base_uri": "https://localhost:8080/"
        }
      },
      "outputs": [
        {
          "output_type": "execute_result",
          "data": {
            "text/plain": [
              "(7, 2)"
            ]
          },
          "metadata": {},
          "execution_count": 13
        }
      ],
      "source": [
        "number.as_integer_ratio()   # Стандартные для float операции работают также  (это встроенный метод float, писать его НЕ НАДО)"
      ]
    },
    {
      "cell_type": "code",
      "source": [
        "(3.5).as_integer_ratio()   # Проверка"
      ],
      "metadata": {
        "colab": {
          "base_uri": "https://localhost:8080/"
        },
        "id": "q4OZcLHFWOyW",
        "outputId": "3f3334ef-1f46-4b32-e010-9ce7d1950578"
      },
      "id": "q4OZcLHFWOyW",
      "execution_count": 14,
      "outputs": [
        {
          "output_type": "execute_result",
          "data": {
            "text/plain": [
              "(7, 2)"
            ]
          },
          "metadata": {},
          "execution_count": 14
        }
      ]
    },
    {
      "cell_type": "code",
      "source": [
        "number.floordivide_25   # Добавила целочисленное деление"
      ],
      "metadata": {
        "colab": {
          "base_uri": "https://localhost:8080/"
        },
        "id": "-KBecMMNhLfQ",
        "outputId": "2378318f-e218-4ef3-b6d3-6e2b5fdcb7ce"
      },
      "id": "-KBecMMNhLfQ",
      "execution_count": 15,
      "outputs": [
        {
          "output_type": "execute_result",
          "data": {
            "text/plain": [
              "0.0"
            ]
          },
          "metadata": {},
          "execution_count": 15
        }
      ]
    },
    {
      "cell_type": "code",
      "source": [
        "3.5 // 25"
      ],
      "metadata": {
        "colab": {
          "base_uri": "https://localhost:8080/"
        },
        "id": "b5w_Hjw1hfeh",
        "outputId": "909de330-0d0c-44a2-9dce-1fc521d099c7"
      },
      "id": "b5w_Hjw1hfeh",
      "execution_count": 16,
      "outputs": [
        {
          "output_type": "execute_result",
          "data": {
            "text/plain": [
              "0.0"
            ]
          },
          "metadata": {},
          "execution_count": 16
        }
      ]
    },
    {
      "cell_type": "markdown",
      "id": "3635bceb-723c-4b2f-82e3-269bd914c46c",
      "metadata": {
        "id": "3635bceb-723c-4b2f-82e3-269bd914c46c"
      },
      "source": [
        "# Задание 4 (3 балла)"
      ]
    },
    {
      "cell_type": "markdown",
      "id": "31d35f82-1e20-4bf5-b896-7b8163f8386f",
      "metadata": {
        "id": "31d35f82-1e20-4bf5-b896-7b8163f8386f"
      },
      "source": [
        "В данном задании мы немного отдохнём и повеселимся. От вас требуется заменить в данном коде максимально возможное количество синтаксических конструкций на вызовы dunder методов, dunder атрибутов и dunder переменных.\n",
        "\n",
        "Маленькая заметка: полностью всё заменить невозможно. Например, `function()` можно записать как `function.__call__()`, но при этом мы всё ещё не избавляемся от скобочек, так что можно делать так до бесконечности `function.__call__.__call__.__call__.__call__.....__call__()` и при всём при этом мы ещё не избавляемся от `.` для доступа к атрибутам. В общем, замените всё, что получится, не закапываясь в повторы, как в приведённом примере. Чем больше разных методов вы найдёте и используете, тем лучше и тем выше будет балл\n",
        "\n",
        "Код по итогу дожен работать и печатать число **4420.0**, как в примере. Структуру кода менять нельзя, просто изменяем конструкции на синонимичные\n",
        "\n",
        "И ещё маленькая подсказка. Заменить здесь можно всё кроме:\n",
        "+ Конструкции `for ... in ...`:\n",
        "+ Синтаксиса создания лямбда функции\n",
        "+ Оператора присваивания `=`\n",
        "+ Конструкции `if-else`"
      ]
    },
    {
      "cell_type": "code",
      "execution_count": 57,
      "id": "a87cff2a-7168-470d-b38f-1cb5a60ac0c4",
      "metadata": {
        "id": "a87cff2a-7168-470d-b38f-1cb5a60ac0c4",
        "outputId": "14ae657d-ac63-4009-fefd-6da2eff480b6",
        "colab": {
          "base_uri": "https://localhost:8080/"
        }
      },
      "outputs": [
        {
          "output_type": "stream",
          "name": "stdout",
          "text": [
            "4420.0\n"
          ]
        }
      ],
      "source": [
        "import numpy as np\n",
        "\n",
        "\n",
        "matrix = []\n",
        "for idx in range(0, 100, 10):\n",
        "    matrix += [list(range(idx, idx + 10))]\n",
        "    \n",
        "selected_columns_indices = list(filter(lambda x: x in range(1, 5, 2), range(len(matrix))))\n",
        "selected_columns = map(lambda x: [x[col] for col in selected_columns_indices], matrix)\n",
        "\n",
        "arr = np.array(list(selected_columns))\n",
        "\n",
        "mask = arr[:, 1] % 3 == 0\n",
        "new_arr = arr[mask]\n",
        "\n",
        "product = new_arr @ new_arr.T\n",
        "\n",
        "if (product[0] < 1000).all() and (product[2] > 1000).any():\n",
        "    print(product.mean())"
      ]
    },
    {
      "cell_type": "code",
      "execution_count": 59,
      "id": "9e29cc00-c8db-4cc4-a93b-2908352d9344",
      "metadata": {
        "id": "9e29cc00-c8db-4cc4-a93b-2908352d9344",
        "colab": {
          "base_uri": "https://localhost:8080/"
        },
        "outputId": "9733f79c-b3f5-402a-a8a0-181b380504fc"
      },
      "outputs": [
        {
          "output_type": "stream",
          "name": "stdout",
          "text": [
            "4420.0\n"
          ]
        }
      ],
      "source": [
        "np = __import__('numpy')\n",
        "\n",
        "matrix = list.__call__()\n",
        "\n",
        "for idx in range(0, 100, 10):\n",
        "    matrix.__iadd__([list(range(idx, idx.__add__(10)))])\n",
        "\n",
        "selected_columns_indices = list(filter(lambda x: x in range(1, 5, 2), range(matrix.__len__())))\n",
        "selected_columns = map(lambda x: [x.__getitem__(col) for col in selected_columns_indices], matrix)\n",
        "\n",
        "arr = np.array(list(selected_columns))\n",
        "\n",
        "mask = arr.__getitem__((slice(None), 1)).__mod__(3).__eq__(0)\n",
        "\n",
        "new_arr = arr.__getitem__(mask)\n",
        "\n",
        "product = new_arr.__matmul__(new_arr.T)\n",
        "\n",
        "if product.__getitem__(0).__lt__(1000).__eq__(True).__and__(product.__getitem__(2).__gt__(1000)).__contains__(True):\n",
        "    print(product.mean().__str__())"
      ]
    },
    {
      "cell_type": "markdown",
      "id": "e90e5938-cabe-4ee1-9a88-73f25b3b67c3",
      "metadata": {
        "id": "e90e5938-cabe-4ee1-9a88-73f25b3b67c3"
      },
      "source": [
        "# Задание 5 (10 баллов)"
      ]
    },
    {
      "cell_type": "markdown",
      "id": "0e58f6a8-7bb8-45f0-b14d-3bcd1f1ba5a9",
      "metadata": {
        "id": "0e58f6a8-7bb8-45f0-b14d-3bcd1f1ba5a9"
      },
      "source": [
        "Напишите абстрактный класс `BiologicalSequence`, который задаёт следующий интерфейс:\n",
        "+ Работа с функцией `len`\n",
        "+ Возможность получать элементы по индексу и делать срезы последовательности (аналогично строкам)\n",
        "+ Вывод на печать в удобном виде и возможность конвертации в строку\n",
        "+ Возможность проверить алфавит последовательности на корректность\n",
        "\n",
        "Напишите класс `NucleicAcidSequence`:\n",
        "+ Данный класс реализует интерфейс `BiologicalSequence`\n",
        "+ Данный класс имеет новый метод `complement`, возвращающий комплементарную последовательность\n",
        "+ Данный класс имеет новый метод `gc_content`, возвращающий GC-состав (без разницы, в процентах или в долях)\n",
        "\n",
        "Напишите классы наследники `NucleicAcidSequence`: `DNASequence` и `RNASequence`\n",
        "+ `DNASequence` должен иметь метод `transcribe`, возвращающий транскрибированную РНК-последовательность\n",
        "+ Данные классы не должны иметь <ins>публичных методов</ins> `complement` и метода для проверки алфавита, так как они уже должны быть реализованы в `NucleicAcidSequence`.\n",
        "\n",
        "Напишите класс `AminoAcidSequence`:\n",
        "+ Данный класс реализует интерфейс `BiologicalSequence`\n",
        "+ Добавьте этому классу один любой метод, подходящий по смыслу к аминокислотной последовательности. Например, метод для нахождения изоэлектрической точки, молекулярного веса и т.д.\n",
        "\n",
        "Комментарий по поводу метода `NucleicAcidSequence.complement`, так как я хочу, чтобы вы сделали его опредедённым образом:\n",
        "\n",
        "При вызове `dna.complement()` или условного `dna.check_alphabet()` должны будут вызываться соответствующие методы из `NucleicAcidSequence`. При этом, данный метод должен обладать свойством полиморфизма, иначе говоря, внутри `complement` не надо делать условия а-ля `if seuqence_type == \"DNA\": return self.complement_dna()`, это крайне не гибко. Данный метод должен опираться на какой-то общий интерфейс между ДНК и РНК. Создание экземпляров `NucleicAcidSequence` не подразумевается, поэтому код `NucleicAcidSequence(\"ATGC\").complement()` не обязан работать, а в идеале должен кидать исключение `NotImplementedError` при вызове от экземпляра `NucleicAcidSequence`\n",
        "\n",
        "Вся сложность задания в том, чтобы правильно организовать код. Если у вас есть повторяющийся код в сестринских классах или родительском и дочернем, значит вы что-то делаете не так.\n",
        "\n",
        "\n",
        "Маленькое замечание: По-хорошему, между классом `BiologicalSequence` и классами `NucleicAcidSequence` и `AminoAcidSequence`, ещё должен быть класс-прослойка, частично реализующий интерфейс `BiologicalSequence`, но его писать не обязательно, так как задание и так довольно большое (правда из-за этого у вас неминуемо возникнет повторяющийся код в классах `NucleicAcidSequence` и `AminoAcidSequence`)"
      ]
    },
    {
      "cell_type": "code",
      "execution_count": 47,
      "id": "f17d5d3f-9982-4271-a987-3af7bc071c42",
      "metadata": {
        "id": "f17d5d3f-9982-4271-a987-3af7bc071c42"
      },
      "outputs": [],
      "source": [
        "from abc import ABC, abstractmethod\n",
        "\n",
        "class BiologicalSequence(ABC):    \n",
        "    @abstractmethod\n",
        "    def __len__(self):\n",
        "        pass\n",
        "    \n",
        "    @abstractmethod\n",
        "    def __getitem__(self, ind):\n",
        "        pass\n",
        "\n",
        "    @abstractmethod\n",
        "    def __repr__(self):\n",
        "        pass\n",
        "    \n",
        "    @abstractmethod\n",
        "    def __str__(self):\n",
        "        pass\n",
        "    \n",
        "    @abstractmethod\n",
        "    def check_alphabet(self):\n",
        "        pass\n",
        "\n",
        "class NucleicAcidSequence(BiologicalSequence):\n",
        "\n",
        "    dna_complement = {\"A\": \"T\", \"a\": \"t\",\n",
        "                      \"T\": \"A\", \"t\": \"a\",\n",
        "                      \"G\": \"C\", \"g\": \"c\",\n",
        "                      \"C\": \"G\", \"c\": \"g\"}\n",
        "\n",
        "    rna_complement = {\"A\": \"U\", \"a\": \"u\",\n",
        "                      \"U\": \"A\", \"u\": \"a\",\n",
        "                      \"G\": \"C\", \"g\": \"c\",\n",
        "                      \"C\": \"G\", \"c\": \"g\"}\n",
        "\n",
        "    def __init__(self, seq:str):\n",
        "        self.seq = seq\n",
        "    \n",
        "    def __len__(self):\n",
        "        return len(self.seq)\n",
        "\n",
        "    def __getitem__(self, ind):\n",
        "        return self.seq.__getitem__(ind)\n",
        "    \n",
        "    def __repr__(self):\n",
        "        return repr(self.seq)\n",
        "    \n",
        "    def __str__(self):\n",
        "        return str(self.seq)\n",
        "    \n",
        "    def check_alphabet(self, dna_complement = dna_complement, rna_complement = rna_complement):\n",
        "        acid = 0\n",
        "        for i in self.seq:\n",
        "            if i in dna_complement and i not in rna_complement:\n",
        "                continue\n",
        "            elif i not in dna_complement and i in rna_complement:\n",
        "                acid = 1\n",
        "            elif i in dna_complement and i in rna_complement:\n",
        "                continue\n",
        "            else:\n",
        "                raise SyntaxError(\"Wrong alphabet. Please rewrite sequence\")\n",
        "        if acid != 0:\n",
        "            return \"RNA\"\n",
        "        else:\n",
        "            return \"DNA\" \n",
        "    \n",
        "    \n",
        "    def complement(self, dna_complement = dna_complement, rna_complement = rna_complement):\n",
        "        compl_seq = []\n",
        "        if self.check_alphabet() == \"DNA\":\n",
        "            for i in self.seq:\n",
        "                compl_seq.append(dna_complement[i])\n",
        "        elif self.check_alphabet() == \"RNA\":\n",
        "            for i in self.seq:\n",
        "                compl_seq.append(rna_complement[i])\n",
        "        else:\n",
        "            raise SyntaxError(\"Wrong alphabet. Please rewrite sequence\")\n",
        "        return ''.join(compl_seq)\n",
        "    \n",
        "    def gc_content(self):\n",
        "        GC = \"GCgc\"\n",
        "        counter = 0\n",
        "        if self.check_alphabet() == \"DNA\" or self.check_alphabet() == \"RNA\":\n",
        "            for i in self.seq:\n",
        "                if i in GC:\n",
        "                    counter += 1\n",
        "            gc_percentage = counter/len(self.seq) * 100\n",
        "            return gc_percentage\n",
        "        else:\n",
        "            raise SyntaxError(\"Wrong alphabet. Please rewrite sequence\")\n",
        "\n",
        "class DNASequence(NucleicAcidSequence):\n",
        "\n",
        "    dna_transcribe = {\"A\": \"A\", \"a\": \"a\",\n",
        "                      \"T\": \"U\", \"t\": \"u\",\n",
        "                      \"G\": \"G\", \"g\": \"g\",\n",
        "                      \"C\": \"C\", \"c\": \"c\"}\n",
        "    \n",
        "    def __init__(self, seq:str):\n",
        "        self.seq = seq\n",
        "    \n",
        "\n",
        "    def transcribe(self, dna_transcribe = dna_transcribe):\n",
        "        if self.check_alphabet() == \"DNA\":\n",
        "            trans_seq = []\n",
        "            for i in self.seq:\n",
        "                trans_seq.append(dna_transcribe[i])\n",
        "            return ''.join(trans_seq)\n",
        "        else:\n",
        "            raise SyntaxError(\"Wrong alphabet. Please rewrite sequence\")\n",
        "\n",
        "class RNASequence(NucleicAcidSequence):\n",
        "\n",
        "    def __init__(self, seq:str):\n",
        "        self.seq = seq\n",
        "\n",
        "class AminoAcidSequence(BiologicalSequence):\n",
        "\n",
        "    protein = {'A': 71.04, 'C': 103.01, 'D': 115.03, \n",
        "               'E': 129.04, 'F': 147.07, 'G': 57.02, \n",
        "               'H': 137.06, 'I': 113.08, 'K': 128.09,\n",
        "               'L': 113.08, 'M': 131.04, 'N': 114.04,\n",
        "               'P': 97.05, 'Q': 128.06, 'R': 156.10,\n",
        "               'S': 87.03, 'T': 101.05, 'V': 99.07, \n",
        "               'W': 186.08, 'Y': 163.06}\n",
        "\n",
        "    def __init__(self, seq:str):\n",
        "        self.seq = seq\n",
        "    \n",
        "    def __len__(self):\n",
        "        return len(self.seq)\n",
        "\n",
        "    def __getitem__(self, ind):\n",
        "        return self.seq.__getitem__(ind)\n",
        "    \n",
        "    def __repr__(self):\n",
        "        return repr(self.seq)\n",
        "    \n",
        "    def __str__(self):\n",
        "        return str(self.seq)\n",
        "    \n",
        "    def check_alphabet(self, protein = protein):\n",
        "        for i in self.seq:\n",
        "            if i not in protein:\n",
        "                raise SyntaxError(\"Wrong alphabet. Please rewrite sequence\")\n",
        "        return True\n",
        "    \n",
        "    def protein_weight(self, protein = protein):\n",
        "        if self.check_alphabet():\n",
        "            weight = 0\n",
        "            for i in self.seq:\n",
        "                weight += protein[i]\n",
        "            return weight\n",
        "        else:\n",
        "            raise SyntaxError(\"Wrong alphabet. Please rewrite sequence\")\n",
        "\n",
        "\n",
        "    \n",
        "\n",
        "\n",
        "\n"
      ]
    },
    {
      "cell_type": "markdown",
      "source": [
        "Проверка на работоспособность"
      ],
      "metadata": {
        "id": "7VUXsOAWOElu"
      },
      "id": "7VUXsOAWOElu"
    },
    {
      "cell_type": "code",
      "source": [
        "RNASequence(\"AUGGUAGUA\").complement()"
      ],
      "metadata": {
        "colab": {
          "base_uri": "https://localhost:8080/",
          "height": 35
        },
        "id": "AJEeVACaKsVN",
        "outputId": "ba99c358-4b4f-4120-d13e-0dfe525c3166"
      },
      "id": "AJEeVACaKsVN",
      "execution_count": 48,
      "outputs": [
        {
          "output_type": "execute_result",
          "data": {
            "text/plain": [
              "'UACCAUCAU'"
            ],
            "application/vnd.google.colaboratory.intrinsic+json": {
              "type": "string"
            }
          },
          "metadata": {},
          "execution_count": 48
        }
      ]
    },
    {
      "cell_type": "code",
      "source": [
        "RNASequence(\"AUFGUAGUA\").complement()"
      ],
      "metadata": {
        "colab": {
          "base_uri": "https://localhost:8080/",
          "height": 318
        },
        "id": "f610O1zMN7gO",
        "outputId": "c8b470ec-2fb7-45f9-dae1-afbcb65b10bd"
      },
      "id": "f610O1zMN7gO",
      "execution_count": 49,
      "outputs": [
        {
          "output_type": "error",
          "ename": "SyntaxError",
          "evalue": "ignored",
          "traceback": [
            "Traceback \u001b[0;36m(most recent call last)\u001b[0m:\n",
            "  File \u001b[1;32m\"/usr/local/lib/python3.8/dist-packages/IPython/core/interactiveshell.py\"\u001b[0m, line \u001b[1;32m3326\u001b[0m, in \u001b[1;35mrun_code\u001b[0m\n    exec(code_obj, self.user_global_ns, self.user_ns)\n",
            "  File \u001b[1;32m\"<ipython-input-49-c8dd3a571707>\"\u001b[0m, line \u001b[1;32m1\u001b[0m, in \u001b[1;35m<module>\u001b[0m\n    RNASequence(\"AUFGUAGUA\").complement()\n",
            "  File \u001b[1;32m\"<ipython-input-47-d75f9495f7c1>\"\u001b[0m, line \u001b[1;32m70\u001b[0m, in \u001b[1;35mcomplement\u001b[0m\n    if self.check_alphabet() == \"DNA\":\n",
            "\u001b[0;36m  File \u001b[0;32m\"<ipython-input-47-d75f9495f7c1>\"\u001b[0;36m, line \u001b[0;32m61\u001b[0;36m, in \u001b[0;35mcheck_alphabet\u001b[0;36m\u001b[0m\n\u001b[0;31m    raise SyntaxError(\"Wrong alphabet. Please rewrite sequence\")\u001b[0m\n",
            "\u001b[0;36m  File \u001b[0;32m\"<string>\"\u001b[0;36m, line \u001b[0;32munknown\u001b[0m\n\u001b[0;31mSyntaxError\u001b[0m\u001b[0;31m:\u001b[0m Wrong alphabet. Please rewrite sequence\n"
          ]
        }
      ]
    },
    {
      "cell_type": "code",
      "source": [
        "DNASequence(\"AUFGUAGUA\").complement()"
      ],
      "metadata": {
        "colab": {
          "base_uri": "https://localhost:8080/",
          "height": 318
        },
        "id": "eJ1Xcs4ZPMz9",
        "outputId": "bfe06842-5c01-4c65-b024-57e4512b2c84"
      },
      "id": "eJ1Xcs4ZPMz9",
      "execution_count": 50,
      "outputs": [
        {
          "output_type": "error",
          "ename": "SyntaxError",
          "evalue": "ignored",
          "traceback": [
            "Traceback \u001b[0;36m(most recent call last)\u001b[0m:\n",
            "  File \u001b[1;32m\"/usr/local/lib/python3.8/dist-packages/IPython/core/interactiveshell.py\"\u001b[0m, line \u001b[1;32m3326\u001b[0m, in \u001b[1;35mrun_code\u001b[0m\n    exec(code_obj, self.user_global_ns, self.user_ns)\n",
            "  File \u001b[1;32m\"<ipython-input-50-b7c1613061c6>\"\u001b[0m, line \u001b[1;32m1\u001b[0m, in \u001b[1;35m<module>\u001b[0m\n    DNASequence(\"AUFGUAGUA\").complement()\n",
            "  File \u001b[1;32m\"<ipython-input-47-d75f9495f7c1>\"\u001b[0m, line \u001b[1;32m70\u001b[0m, in \u001b[1;35mcomplement\u001b[0m\n    if self.check_alphabet() == \"DNA\":\n",
            "\u001b[0;36m  File \u001b[0;32m\"<ipython-input-47-d75f9495f7c1>\"\u001b[0;36m, line \u001b[0;32m61\u001b[0;36m, in \u001b[0;35mcheck_alphabet\u001b[0;36m\u001b[0m\n\u001b[0;31m    raise SyntaxError(\"Wrong alphabet. Please rewrite sequence\")\u001b[0m\n",
            "\u001b[0;36m  File \u001b[0;32m\"<string>\"\u001b[0;36m, line \u001b[0;32munknown\u001b[0m\n\u001b[0;31mSyntaxError\u001b[0m\u001b[0;31m:\u001b[0m Wrong alphabet. Please rewrite sequence\n"
          ]
        }
      ]
    },
    {
      "cell_type": "code",
      "source": [
        "DNASequence(\"ATCG\").complement()"
      ],
      "metadata": {
        "colab": {
          "base_uri": "https://localhost:8080/",
          "height": 35
        },
        "id": "EoKWo1yGPSb4",
        "outputId": "70f6a713-26cb-4553-d523-074d7b4c4c15"
      },
      "id": "EoKWo1yGPSb4",
      "execution_count": 51,
      "outputs": [
        {
          "output_type": "execute_result",
          "data": {
            "text/plain": [
              "'TAGC'"
            ],
            "application/vnd.google.colaboratory.intrinsic+json": {
              "type": "string"
            }
          },
          "metadata": {},
          "execution_count": 51
        }
      ]
    },
    {
      "cell_type": "code",
      "source": [
        "DNASequence(\"ATCG\").transcribe()"
      ],
      "metadata": {
        "colab": {
          "base_uri": "https://localhost:8080/",
          "height": 35
        },
        "id": "vb21o45JPYAy",
        "outputId": "3d4f839c-e37b-453e-bf7b-9eda4c3cd861"
      },
      "id": "vb21o45JPYAy",
      "execution_count": 52,
      "outputs": [
        {
          "output_type": "execute_result",
          "data": {
            "text/plain": [
              "'AUCG'"
            ],
            "application/vnd.google.colaboratory.intrinsic+json": {
              "type": "string"
            }
          },
          "metadata": {},
          "execution_count": 52
        }
      ]
    },
    {
      "cell_type": "code",
      "source": [
        "AminoAcidSequence(\"ACDEF\").protein_weight()"
      ],
      "metadata": {
        "colab": {
          "base_uri": "https://localhost:8080/"
        },
        "id": "4Gz8L3wQPtS1",
        "outputId": "d001d989-c19b-4d2f-d32e-ea21deb4819f"
      },
      "id": "4Gz8L3wQPtS1",
      "execution_count": 53,
      "outputs": [
        {
          "output_type": "execute_result",
          "data": {
            "text/plain": [
              "565.19"
            ]
          },
          "metadata": {},
          "execution_count": 53
        }
      ]
    },
    {
      "cell_type": "code",
      "source": [
        "AminoAcidSequence(\"ACDEFB\").protein_weight()"
      ],
      "metadata": {
        "colab": {
          "base_uri": "https://localhost:8080/",
          "height": 318
        },
        "id": "6XvufRXrP2Cs",
        "outputId": "11501177-ac9a-4336-a5c7-4f35a1eca401"
      },
      "id": "6XvufRXrP2Cs",
      "execution_count": 54,
      "outputs": [
        {
          "output_type": "error",
          "ename": "SyntaxError",
          "evalue": "ignored",
          "traceback": [
            "Traceback \u001b[0;36m(most recent call last)\u001b[0m:\n",
            "  File \u001b[1;32m\"/usr/local/lib/python3.8/dist-packages/IPython/core/interactiveshell.py\"\u001b[0m, line \u001b[1;32m3326\u001b[0m, in \u001b[1;35mrun_code\u001b[0m\n    exec(code_obj, self.user_global_ns, self.user_ns)\n",
            "  File \u001b[1;32m\"<ipython-input-54-789fa5ee152d>\"\u001b[0m, line \u001b[1;32m1\u001b[0m, in \u001b[1;35m<module>\u001b[0m\n    AminoAcidSequence(\"ACDEFB\").protein_weight()\n",
            "  File \u001b[1;32m\"<ipython-input-47-d75f9495f7c1>\"\u001b[0m, line \u001b[1;32m149\u001b[0m, in \u001b[1;35mprotein_weight\u001b[0m\n    if self.check_alphabet():\n",
            "\u001b[0;36m  File \u001b[0;32m\"<ipython-input-47-d75f9495f7c1>\"\u001b[0;36m, line \u001b[0;32m145\u001b[0;36m, in \u001b[0;35mcheck_alphabet\u001b[0;36m\u001b[0m\n\u001b[0;31m    raise SyntaxError(\"Wrong alphabet. Please rewrite sequence\")\u001b[0m\n",
            "\u001b[0;36m  File \u001b[0;32m\"<string>\"\u001b[0;36m, line \u001b[0;32munknown\u001b[0m\n\u001b[0;31mSyntaxError\u001b[0m\u001b[0;31m:\u001b[0m Wrong alphabet. Please rewrite sequence\n"
          ]
        }
      ]
    },
    {
      "cell_type": "code",
      "source": [
        "DNASequence(\"ATCG\").gc_content()"
      ],
      "metadata": {
        "colab": {
          "base_uri": "https://localhost:8080/"
        },
        "id": "rAQjfIxvP7ik",
        "outputId": "0c9eaeee-1dc3-423a-b710-66ea59fe0371"
      },
      "id": "rAQjfIxvP7ik",
      "execution_count": 55,
      "outputs": [
        {
          "output_type": "execute_result",
          "data": {
            "text/plain": [
              "50.0"
            ]
          },
          "metadata": {},
          "execution_count": 55
        }
      ]
    },
    {
      "cell_type": "code",
      "source": [
        "RNASequence(\"AUCG\").gc_content()"
      ],
      "metadata": {
        "colab": {
          "base_uri": "https://localhost:8080/"
        },
        "id": "N4HFsFFuP_g7",
        "outputId": "a801ca70-d886-4ea7-8d86-4cff6564eb29"
      },
      "id": "N4HFsFFuP_g7",
      "execution_count": 56,
      "outputs": [
        {
          "output_type": "execute_result",
          "data": {
            "text/plain": [
              "50.0"
            ]
          },
          "metadata": {},
          "execution_count": 56
        }
      ]
    }
  ],
  "metadata": {
    "kernelspec": {
      "display_name": "Python 3 (ipykernel)",
      "language": "python",
      "name": "python3"
    },
    "language_info": {
      "codemirror_mode": {
        "name": "ipython",
        "version": 3
      },
      "file_extension": ".py",
      "mimetype": "text/x-python",
      "name": "python",
      "nbconvert_exporter": "python",
      "pygments_lexer": "ipython3",
      "version": "3.9.12"
    },
    "colab": {
      "provenance": []
    }
  },
  "nbformat": 4,
  "nbformat_minor": 5
}